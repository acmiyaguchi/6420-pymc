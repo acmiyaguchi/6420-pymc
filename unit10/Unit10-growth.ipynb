{
 "cells": [
  {
   "cell_type": "code",
   "execution_count": 86,
   "id": "95ef8687",
   "metadata": {},
   "outputs": [
    {
     "name": "stdout",
     "output_type": "stream",
     "text": [
      "The lab_black extension is already loaded. To reload it, use:\n",
      "  %reload_ext lab_black\n",
      "The watermark extension is already loaded. To reload it, use:\n",
      "  %reload_ext watermark\n"
     ]
    }
   ],
   "source": [
    "import pymc as pm\n",
    "import numpy as np\n",
    "import arviz as az\n",
    "from pymc.math import matrix_inverse, extract_diag, sqrt\n",
    "import aesara.tensor as at\n",
    "\n",
    "%load_ext lab_black\n",
    "%load_ext watermark"
   ]
  },
  {
   "cell_type": "markdown",
   "id": "d2ab8980",
   "metadata": {},
   "source": [
    "# Dental Development\n",
    "\n",
    "\n",
    "Adapted from [unit 10: growth.odc](https://raw.githubusercontent.com/areding/6420-pymc/main/original_examples/Codes4Unit10/growth.odc).\n",
    "\n",
    "Data for the y array can be found [here](https://raw.githubusercontent.com/areding/6420-pymc/main/data/growthy.txt).\n",
    "\n",
    "## Associated lecture video: Unit 10 Lesson 2"
   ]
  },
  {
   "cell_type": "code",
   "execution_count": 39,
   "id": "560c87da",
   "metadata": {},
   "outputs": [
    {
     "data": {
      "text/html": [
       "<iframe width=\"560\" height=\"315\" src=\"https://www.youtube.com/embed?v=xomK4tcePmc&list=PLv0FeK5oXK4l-RdT6DWJj0_upJOG2WKNO&index=99\" frameborder=\"0\" allow=\"autoplay; encrypted-media\" allowfullscreen></iframe>\n"
      ],
      "text/plain": [
       "<IPython.core.display.HTML object>"
      ]
     },
     "metadata": {},
     "output_type": "display_data"
    }
   ],
   "source": [
    "%%html\n",
    "<iframe width=\"560\" height=\"315\" src=\"https://www.youtube.com/embed?v=xomK4tcePmc&list=PLv0FeK5oXK4l-RdT6DWJj0_upJOG2WKNO&index=99\" frameborder=\"0\" allow=\"autoplay; encrypted-media\" allowfullscreen></iframe>"
   ]
  },
  {
   "cell_type": "markdown",
   "id": "72faf16c",
   "metadata": {},
   "source": [
    "## Problem statement\n",
    "\n",
    "\n",
    "Data set on dental development was first provided by Potthof and Roy in their 1964 paper. It consists of longitudinal observations on 11 girls (gender=1) and 16 boys (gender=2). \n",
    "\n",
    "There are 4 observations on each subject centered at times -3,-1, 1, 3, where the units were years.\n",
    "\n",
    "The measurement on each subject is the distance (in mm) from the center of the pituitary to the pteryomaxillary fisure.\n",
    "\n",
    "Potthoff and Roy (1964). \"A Generalized Multivariate Analysis of Variance Model Useful Especially for Growth Curve Problems,\" Biometrika, 51, 313-326.\n",
    "\n",
    "MVN with Gender Specific Means but Common Precision Matrix"
   ]
  },
  {
   "cell_type": "markdown",
   "id": "c5130e37",
   "metadata": {},
   "source": [
    "notes:\n",
    "- definitely talk about Wishart. Pymc docs say it's unusable??? why tf do they have it?\n",
    "- https://github.com/pymc-devs/pymc/issues/538 super interesting discussion here\n",
    "- this is all new to me, need to think about it more."
   ]
  },
  {
   "cell_type": "code",
   "execution_count": 9,
   "id": "49da33b7",
   "metadata": {},
   "outputs": [],
   "source": [
    "t = np.array((-3, -1, 1, 3))\n",
    "gender = np.array(\n",
    "    (1, 1, 1, 1, 1, 1, 1, 1, 1, 1, 1, 2, 2, 2, 2, 2, 2, 2, 2, 2, 2, 2, 2, 2, 2, 2)\n",
    ")\n",
    "y = np.loadtxt(\"../data/growthy.txt\")"
   ]
  },
  {
   "cell_type": "code",
   "execution_count": 21,
   "id": "5cbfa60c",
   "metadata": {},
   "outputs": [
    {
     "data": {
      "text/plain": [
       "array([[1., 0., 0., 0.],\n",
       "       [0., 1., 0., 0.],\n",
       "       [0., 0., 1., 0.],\n",
       "       [0., 0., 0., 1.]])"
      ]
     },
     "execution_count": 21,
     "metadata": {},
     "output_type": "execute_result"
    }
   ],
   "source": [
    "C = np.eye(4)\n",
    "C"
   ]
  },
  {
   "cell_type": "code",
   "execution_count": 124,
   "id": "1fc7e201",
   "metadata": {},
   "outputs": [],
   "source": [
    "coords = {\"t\": t, \"gender\": np.array([1, 2]), \"id\": np.array(range(26))}"
   ]
  },
  {
   "cell_type": "code",
   "execution_count": 26,
   "id": "1618b2d7",
   "metadata": {},
   "outputs": [
    {
     "data": {
      "text/plain": [
       "{'gender': array([1, 2]),\n",
       " 'id': array([ 0,  1,  2,  3,  4,  5,  6,  7,  8,  9, 10, 11, 12, 13, 14, 15, 16,\n",
       "        17, 18, 19, 20, 21, 22, 23, 24, 25])}"
      ]
     },
     "execution_count": 26,
     "metadata": {},
     "output_type": "execute_result"
    }
   ],
   "source": [
    "coords"
   ]
  },
  {
   "cell_type": "code",
   "execution_count": 97,
   "id": "87d1eb30",
   "metadata": {},
   "outputs": [
    {
     "data": {
      "text/plain": [
       "array([[ 0.20265061,  0.71904916,  0.14760878,  0.59028027],\n",
       "       [ 0.71904916,  3.97705637,  2.11725019,  1.05959649],\n",
       "       [ 0.14760878,  2.11725019,  2.0715082 , -0.6685237 ],\n",
       "       [ 0.59028027,  1.05959649, -0.6685237 ,  2.49725134]])"
      ]
     },
     "execution_count": 97,
     "metadata": {},
     "output_type": "execute_result"
    }
   ],
   "source": [
    "pm.Wishart.dist(nu=4, V=C).eval()"
   ]
  },
  {
   "cell_type": "code",
   "execution_count": 115,
   "id": "b378aa78",
   "metadata": {},
   "outputs": [
    {
     "data": {
      "text/plain": [
       "array([-0.28551757,  0.25067463,  0.6477226 , -0.7740144 ,  0.08064782,\n",
       "        0.06060438])"
      ]
     },
     "execution_count": 115,
     "metadata": {},
     "output_type": "execute_result"
    }
   ],
   "source": [
    "pm.LKJCorr.dist(n=4, eta=0.4).eval()"
   ]
  },
  {
   "cell_type": "code",
   "execution_count": 107,
   "id": "062aa10c",
   "metadata": {},
   "outputs": [
    {
     "ename": "TypeError",
     "evalue": "WishartBartlett() missing 1 required positional argument: 'name'",
     "output_type": "error",
     "traceback": [
      "\u001b[0;31m---------------------------------------------------------------------------\u001b[0m",
      "\u001b[0;31mTypeError\u001b[0m                                 Traceback (most recent call last)",
      "Input \u001b[0;32mIn [107]\u001b[0m, in \u001b[0;36m<cell line: 1>\u001b[0;34m()\u001b[0m\n\u001b[0;32m----> 1\u001b[0m \u001b[43mpm\u001b[49m\u001b[38;5;241;43m.\u001b[39;49m\u001b[43mWishartBartlett\u001b[49m\u001b[43m(\u001b[49m\u001b[43mnu\u001b[49m\u001b[38;5;241;43m=\u001b[39;49m\u001b[38;5;241;43m4\u001b[39;49m\u001b[43m,\u001b[49m\u001b[43m \u001b[49m\u001b[43mS\u001b[49m\u001b[38;5;241;43m=\u001b[39;49m\u001b[43mC\u001b[49m\u001b[43m)\u001b[49m\u001b[38;5;241m.\u001b[39meval()\n",
      "\u001b[0;31mTypeError\u001b[0m: WishartBartlett() missing 1 required positional argument: 'name'"
     ]
    }
   ],
   "source": [
    "pm.WishartBartlett2(nu=4, S=C).eval()"
   ]
  },
  {
   "cell_type": "code",
   "execution_count": 127,
   "id": "76515c21",
   "metadata": {},
   "outputs": [
    {
     "name": "stderr",
     "output_type": "stream",
     "text": [
      "ERROR (aesara.graph.opt): Optimization failure due to: constant_folding\n",
      "ERROR:aesara.graph.opt:Optimization failure due to: constant_folding\n",
      "ERROR (aesara.graph.opt): node: Assert{msg=Could not broadcast dimensions}(TensorConstant{26}, TensorConstant{False})\n",
      "ERROR:aesara.graph.opt:node: Assert{msg=Could not broadcast dimensions}(TensorConstant{26}, TensorConstant{False})\n",
      "ERROR (aesara.graph.opt): TRACEBACK:\n",
      "ERROR:aesara.graph.opt:TRACEBACK:\n",
      "ERROR (aesara.graph.opt): Traceback (most recent call last):\n",
      "  File \"/Users/aaron/mambaforge/envs/pymc_env/lib/python3.10/site-packages/aesara/graph/opt.py\", line 1850, in process_node\n",
      "    replacements = lopt.transform(fgraph, node)\n",
      "  File \"/Users/aaron/mambaforge/envs/pymc_env/lib/python3.10/site-packages/aesara/graph/opt.py\", line 1055, in transform\n",
      "    return self.fn(fgraph, node)\n",
      "  File \"/Users/aaron/mambaforge/envs/pymc_env/lib/python3.10/site-packages/aesara/tensor/basic_opt.py\", line 2944, in constant_folding\n",
      "    required = thunk()\n",
      "  File \"/Users/aaron/mambaforge/envs/pymc_env/lib/python3.10/site-packages/aesara/link/c/op.py\", line 103, in rval\n",
      "    thunk()\n",
      "  File \"/Users/aaron/mambaforge/envs/pymc_env/lib/python3.10/site-packages/aesara/link/c/basic.py\", line 1760, in __call__\n",
      "    raise exc_value.with_traceback(exc_trace)\n",
      "AssertionError: Could not broadcast dimensions\n",
      "\n",
      "ERROR:aesara.graph.opt:Traceback (most recent call last):\n",
      "  File \"/Users/aaron/mambaforge/envs/pymc_env/lib/python3.10/site-packages/aesara/graph/opt.py\", line 1850, in process_node\n",
      "    replacements = lopt.transform(fgraph, node)\n",
      "  File \"/Users/aaron/mambaforge/envs/pymc_env/lib/python3.10/site-packages/aesara/graph/opt.py\", line 1055, in transform\n",
      "    return self.fn(fgraph, node)\n",
      "  File \"/Users/aaron/mambaforge/envs/pymc_env/lib/python3.10/site-packages/aesara/tensor/basic_opt.py\", line 2944, in constant_folding\n",
      "    required = thunk()\n",
      "  File \"/Users/aaron/mambaforge/envs/pymc_env/lib/python3.10/site-packages/aesara/link/c/op.py\", line 103, in rval\n",
      "    thunk()\n",
      "  File \"/Users/aaron/mambaforge/envs/pymc_env/lib/python3.10/site-packages/aesara/link/c/basic.py\", line 1760, in __call__\n",
      "    raise exc_value.with_traceback(exc_trace)\n",
      "AssertionError: Could not broadcast dimensions\n",
      "\n"
     ]
    },
    {
     "ename": "AssertionError",
     "evalue": "Could not broadcast dimensions",
     "output_type": "error",
     "traceback": [
      "\u001b[0;31m---------------------------------------------------------------------------\u001b[0m",
      "\u001b[0;31mAssertionError\u001b[0m                            Traceback (most recent call last)",
      "Input \u001b[0;32mIn [127]\u001b[0m, in \u001b[0;36m<cell line: 1>\u001b[0;34m()\u001b[0m\n\u001b[1;32m      7\u001b[0m T, corr, stds \u001b[38;5;241m=\u001b[39m pm\u001b[38;5;241m.\u001b[39mLKJCholeskyCov(\u001b[38;5;124m\"\u001b[39m\u001b[38;5;124mT\u001b[39m\u001b[38;5;124m\"\u001b[39m, n\u001b[38;5;241m=\u001b[39m\u001b[38;5;241m4\u001b[39m, eta\u001b[38;5;241m=\u001b[39m\u001b[38;5;241m1\u001b[39m, sd_dist\u001b[38;5;241m=\u001b[39mpm\u001b[38;5;241m.\u001b[39mNormal\u001b[38;5;241m.\u001b[39mdist(\u001b[38;5;241m0\u001b[39m, \u001b[38;5;241m1\u001b[39m), compute_corr\u001b[38;5;241m=\u001b[39m\u001b[38;5;28;01mTrue\u001b[39;00m)\n\u001b[1;32m      9\u001b[0m mu \u001b[38;5;241m=\u001b[39m pm\u001b[38;5;241m.\u001b[39mDeterministic(\u001b[38;5;124m\"\u001b[39m\u001b[38;5;124mmu\u001b[39m\u001b[38;5;124m\"\u001b[39m, beta1[g] \u001b[38;5;241m+\u001b[39m beta2[g] \u001b[38;5;241m*\u001b[39m t, dims\u001b[38;5;241m=\u001b[39m(\u001b[38;5;124m\"\u001b[39m\u001b[38;5;124mgender\u001b[39m\u001b[38;5;124m\"\u001b[39m, \u001b[38;5;124m\"\u001b[39m\u001b[38;5;124mt\u001b[39m\u001b[38;5;124m\"\u001b[39m)) \u001b[38;5;66;03m# mu should be shape (2, 4)? but mvnormal mu should be a vector...\u001b[39;00m\n\u001b[0;32m---> 10\u001b[0m \u001b[43mpm\u001b[49m\u001b[38;5;241;43m.\u001b[39;49m\u001b[43mMvNormal\u001b[49m\u001b[43m(\u001b[49m\u001b[38;5;124;43m\"\u001b[39;49m\u001b[38;5;124;43mlikelihood\u001b[39;49m\u001b[38;5;124;43m\"\u001b[39;49m\u001b[43m,\u001b[49m\u001b[43m \u001b[49m\u001b[43mmu\u001b[49m\u001b[43m,\u001b[49m\u001b[43m \u001b[49m\u001b[43mchol\u001b[49m\u001b[38;5;241;43m=\u001b[39;49m\u001b[43mT\u001b[49m\u001b[43m,\u001b[49m\u001b[43m \u001b[49m\u001b[43mobserved\u001b[49m\u001b[38;5;241;43m=\u001b[39;49m\u001b[43my\u001b[49m\u001b[43m)\u001b[49m \u001b[38;5;66;03m# (26, 4)\u001b[39;00m\n\u001b[1;32m     12\u001b[0m pm\u001b[38;5;241m.\u001b[39mDeterministic(\u001b[38;5;124m\"\u001b[39m\u001b[38;5;124mcorr\u001b[39m\u001b[38;5;124m\"\u001b[39m, corr)\n\u001b[1;32m     13\u001b[0m \u001b[38;5;66;03m#V = matrix_inverse(T)\u001b[39;00m\n\u001b[1;32m     14\u001b[0m \u001b[38;5;66;03m#diag_sqrt = sqrt(extract_diag(V))\u001b[39;00m\n\u001b[1;32m     15\u001b[0m \u001b[38;5;66;03m#V = V/diag_sqrt[:, None]\u001b[39;00m\n\u001b[1;32m     16\u001b[0m \u001b[38;5;66;03m#corr = pm.Deterministic(\"corr\", V/diag_sqrt[None, :])\u001b[39;00m\n",
      "File \u001b[0;32m~/mambaforge/envs/pymc_env/lib/python3.10/site-packages/pymc/distributions/distribution.py:263\u001b[0m, in \u001b[0;36mDistribution.__new__\u001b[0;34m(cls, name, rng, dims, initval, observed, total_size, transform, *args, **kwargs)\u001b[0m\n\u001b[1;32m    259\u001b[0m     \u001b[38;5;28;01mraise\u001b[39;00m \u001b[38;5;167;01mTypeError\u001b[39;00m(\u001b[38;5;124mf\u001b[39m\u001b[38;5;124m\"\u001b[39m\u001b[38;5;124mName needs to be a string but got: \u001b[39m\u001b[38;5;132;01m{\u001b[39;00mname\u001b[38;5;132;01m}\u001b[39;00m\u001b[38;5;124m\"\u001b[39m)\n\u001b[1;32m    261\u001b[0m \u001b[38;5;66;03m# Create the RV and process dims and observed to determine\u001b[39;00m\n\u001b[1;32m    262\u001b[0m \u001b[38;5;66;03m# a shape by which the created RV may need to be resized.\u001b[39;00m\n\u001b[0;32m--> 263\u001b[0m rv_out, dims, observed, resize_shape \u001b[38;5;241m=\u001b[39m \u001b[43m_make_rv_and_resize_shape\u001b[49m\u001b[43m(\u001b[49m\n\u001b[1;32m    264\u001b[0m \u001b[43m    \u001b[49m\u001b[38;5;28;43mcls\u001b[39;49m\u001b[38;5;241;43m=\u001b[39;49m\u001b[38;5;28;43mcls\u001b[39;49m\u001b[43m,\u001b[49m\u001b[43m \u001b[49m\u001b[43mdims\u001b[49m\u001b[38;5;241;43m=\u001b[39;49m\u001b[43mdims\u001b[49m\u001b[43m,\u001b[49m\u001b[43m \u001b[49m\u001b[43mmodel\u001b[49m\u001b[38;5;241;43m=\u001b[39;49m\u001b[43mmodel\u001b[49m\u001b[43m,\u001b[49m\u001b[43m \u001b[49m\u001b[43mobserved\u001b[49m\u001b[38;5;241;43m=\u001b[39;49m\u001b[43mobserved\u001b[49m\u001b[43m,\u001b[49m\u001b[43m \u001b[49m\u001b[43margs\u001b[49m\u001b[38;5;241;43m=\u001b[39;49m\u001b[43margs\u001b[49m\u001b[43m,\u001b[49m\u001b[43m \u001b[49m\u001b[38;5;241;43m*\u001b[39;49m\u001b[38;5;241;43m*\u001b[39;49m\u001b[43mkwargs\u001b[49m\n\u001b[1;32m    265\u001b[0m \u001b[43m\u001b[49m\u001b[43m)\u001b[49m\n\u001b[1;32m    267\u001b[0m \u001b[38;5;28;01mif\u001b[39;00m resize_shape:\n\u001b[1;32m    268\u001b[0m     \u001b[38;5;66;03m# A batch size was specified through `dims`, or implied by `observed`.\u001b[39;00m\n\u001b[1;32m    269\u001b[0m     rv_out \u001b[38;5;241m=\u001b[39m change_rv_size(rv\u001b[38;5;241m=\u001b[39mrv_out, new_size\u001b[38;5;241m=\u001b[39mresize_shape, expand\u001b[38;5;241m=\u001b[39m\u001b[38;5;28;01mTrue\u001b[39;00m)\n",
      "File \u001b[0;32m~/mambaforge/envs/pymc_env/lib/python3.10/site-packages/pymc/distributions/distribution.py:165\u001b[0m, in \u001b[0;36m_make_rv_and_resize_shape\u001b[0;34m(cls, dims, model, observed, args, **kwargs)\u001b[0m\n\u001b[1;32m    162\u001b[0m \u001b[38;5;124;03m\"\"\"Creates the RV and processes dims or observed to determine a resize shape.\"\"\"\u001b[39;00m\n\u001b[1;32m    163\u001b[0m \u001b[38;5;66;03m# Create the RV without dims information, because that's not something tracked at the Aesara level.\u001b[39;00m\n\u001b[1;32m    164\u001b[0m \u001b[38;5;66;03m# If necessary we'll later replicate to a different size implied by already known dims.\u001b[39;00m\n\u001b[0;32m--> 165\u001b[0m rv_out \u001b[38;5;241m=\u001b[39m \u001b[38;5;28;43mcls\u001b[39;49m\u001b[38;5;241;43m.\u001b[39;49m\u001b[43mdist\u001b[49m\u001b[43m(\u001b[49m\u001b[38;5;241;43m*\u001b[39;49m\u001b[43margs\u001b[49m\u001b[43m,\u001b[49m\u001b[43m \u001b[49m\u001b[38;5;241;43m*\u001b[39;49m\u001b[38;5;241;43m*\u001b[39;49m\u001b[43mkwargs\u001b[49m\u001b[43m)\u001b[49m\n\u001b[1;32m    166\u001b[0m ndim_actual \u001b[38;5;241m=\u001b[39m rv_out\u001b[38;5;241m.\u001b[39mndim\n\u001b[1;32m    167\u001b[0m resize_shape \u001b[38;5;241m=\u001b[39m \u001b[38;5;28;01mNone\u001b[39;00m\n",
      "File \u001b[0;32m~/mambaforge/envs/pymc_env/lib/python3.10/site-packages/pymc/distributions/multivariate.py:255\u001b[0m, in \u001b[0;36mMvNormal.dist\u001b[0;34m(cls, mu, cov, tau, chol, lower, **kwargs)\u001b[0m\n\u001b[1;32m    253\u001b[0m cov \u001b[38;5;241m=\u001b[39m quaddist_matrix(cov, chol, tau, lower)\n\u001b[1;32m    254\u001b[0m \u001b[38;5;66;03m# Aesara is stricter about the shape of mu, than PyMC used to be\u001b[39;00m\n\u001b[0;32m--> 255\u001b[0m mu \u001b[38;5;241m=\u001b[39m \u001b[43mat\u001b[49m\u001b[38;5;241;43m.\u001b[39;49m\u001b[43mbroadcast_arrays\u001b[49m\u001b[43m(\u001b[49m\u001b[43mmu\u001b[49m\u001b[43m,\u001b[49m\u001b[43m \u001b[49m\u001b[43mcov\u001b[49m\u001b[43m[\u001b[49m\u001b[38;5;241;43m.\u001b[39;49m\u001b[38;5;241;43m.\u001b[39;49m\u001b[38;5;241;43m.\u001b[39;49m\u001b[43m,\u001b[49m\u001b[43m \u001b[49m\u001b[38;5;241;43m-\u001b[39;49m\u001b[38;5;241;43m1\u001b[39;49m\u001b[43m]\u001b[49m\u001b[43m)\u001b[49m[\u001b[38;5;241m0\u001b[39m]\n\u001b[1;32m    256\u001b[0m \u001b[38;5;28;01mreturn\u001b[39;00m \u001b[38;5;28msuper\u001b[39m()\u001b[38;5;241m.\u001b[39mdist([mu, cov], \u001b[38;5;241m*\u001b[39m\u001b[38;5;241m*\u001b[39mkwargs)\n",
      "File \u001b[0;32m~/mambaforge/envs/pymc_env/lib/python3.10/site-packages/aesara/tensor/extra_ops.py:1669\u001b[0m, in \u001b[0;36mbroadcast_arrays\u001b[0;34m(*args)\u001b[0m\n\u001b[1;32m   1660\u001b[0m \u001b[38;5;28;01mdef\u001b[39;00m \u001b[38;5;21mbroadcast_arrays\u001b[39m(\u001b[38;5;241m*\u001b[39margs: TensorVariable) \u001b[38;5;241m-\u001b[39m\u001b[38;5;241m>\u001b[39m Tuple[TensorVariable, \u001b[38;5;241m.\u001b[39m\u001b[38;5;241m.\u001b[39m\u001b[38;5;241m.\u001b[39m]:\n\u001b[1;32m   1661\u001b[0m     \u001b[38;5;124;03m\"\"\"Broadcast any number of arrays against each other.\u001b[39;00m\n\u001b[1;32m   1662\u001b[0m \n\u001b[1;32m   1663\u001b[0m \u001b[38;5;124;03m    Parameters\u001b[39;00m\n\u001b[0;32m   (...)\u001b[0m\n\u001b[1;32m   1667\u001b[0m \n\u001b[1;32m   1668\u001b[0m \u001b[38;5;124;03m    \"\"\"\u001b[39;00m\n\u001b[0;32m-> 1669\u001b[0m     \u001b[38;5;28;01mreturn\u001b[39;00m \u001b[38;5;28;43mtuple\u001b[39;49m\u001b[43m(\u001b[49m\u001b[43mbroadcast_to\u001b[49m\u001b[43m(\u001b[49m\u001b[43ma\u001b[49m\u001b[43m,\u001b[49m\u001b[43m \u001b[49m\u001b[43mbroadcast_shape\u001b[49m\u001b[43m(\u001b[49m\u001b[38;5;241;43m*\u001b[39;49m\u001b[43margs\u001b[49m\u001b[43m)\u001b[49m\u001b[43m)\u001b[49m\u001b[43m \u001b[49m\u001b[38;5;28;43;01mfor\u001b[39;49;00m\u001b[43m \u001b[49m\u001b[43ma\u001b[49m\u001b[43m \u001b[49m\u001b[38;5;129;43;01min\u001b[39;49;00m\u001b[43m \u001b[49m\u001b[43margs\u001b[49m\u001b[43m)\u001b[49m\n",
      "File \u001b[0;32m~/mambaforge/envs/pymc_env/lib/python3.10/site-packages/aesara/tensor/extra_ops.py:1669\u001b[0m, in \u001b[0;36m<genexpr>\u001b[0;34m(.0)\u001b[0m\n\u001b[1;32m   1660\u001b[0m \u001b[38;5;28;01mdef\u001b[39;00m \u001b[38;5;21mbroadcast_arrays\u001b[39m(\u001b[38;5;241m*\u001b[39margs: TensorVariable) \u001b[38;5;241m-\u001b[39m\u001b[38;5;241m>\u001b[39m Tuple[TensorVariable, \u001b[38;5;241m.\u001b[39m\u001b[38;5;241m.\u001b[39m\u001b[38;5;241m.\u001b[39m]:\n\u001b[1;32m   1661\u001b[0m     \u001b[38;5;124;03m\"\"\"Broadcast any number of arrays against each other.\u001b[39;00m\n\u001b[1;32m   1662\u001b[0m \n\u001b[1;32m   1663\u001b[0m \u001b[38;5;124;03m    Parameters\u001b[39;00m\n\u001b[0;32m   (...)\u001b[0m\n\u001b[1;32m   1667\u001b[0m \n\u001b[1;32m   1668\u001b[0m \u001b[38;5;124;03m    \"\"\"\u001b[39;00m\n\u001b[0;32m-> 1669\u001b[0m     \u001b[38;5;28;01mreturn\u001b[39;00m \u001b[38;5;28mtuple\u001b[39m(\u001b[43mbroadcast_to\u001b[49m\u001b[43m(\u001b[49m\u001b[43ma\u001b[49m\u001b[43m,\u001b[49m\u001b[43m \u001b[49m\u001b[43mbroadcast_shape\u001b[49m\u001b[43m(\u001b[49m\u001b[38;5;241;43m*\u001b[39;49m\u001b[43margs\u001b[49m\u001b[43m)\u001b[49m\u001b[43m)\u001b[49m \u001b[38;5;28;01mfor\u001b[39;00m a \u001b[38;5;129;01min\u001b[39;00m args)\n",
      "File \u001b[0;32m~/mambaforge/envs/pymc_env/lib/python3.10/site-packages/aesara/tensor/extra_ops.py:1657\u001b[0m, in \u001b[0;36mbroadcast_to\u001b[0;34m(x, shape)\u001b[0m\n\u001b[1;32m   1654\u001b[0m \u001b[38;5;28;01mif\u001b[39;00m x\u001b[38;5;241m.\u001b[39mndim \u001b[38;5;241m==\u001b[39m \u001b[38;5;241m0\u001b[39m \u001b[38;5;129;01mand\u001b[39;00m shape_len \u001b[38;5;241m==\u001b[39m \u001b[38;5;241m0\u001b[39m:\n\u001b[1;32m   1655\u001b[0m     \u001b[38;5;28;01mreturn\u001b[39;00m x\n\u001b[0;32m-> 1657\u001b[0m \u001b[38;5;28;01mreturn\u001b[39;00m \u001b[43mbroadcast_to_\u001b[49m\u001b[43m(\u001b[49m\u001b[43mx\u001b[49m\u001b[43m,\u001b[49m\u001b[43m \u001b[49m\u001b[43mshape\u001b[49m\u001b[43m)\u001b[49m\n",
      "File \u001b[0;32m~/mambaforge/envs/pymc_env/lib/python3.10/site-packages/aesara/tensor/extra_ops.py:1558\u001b[0m, in \u001b[0;36mBroadcastTo.__call__\u001b[0;34m(self, a, shape, **kwargs)\u001b[0m\n\u001b[1;32m   1557\u001b[0m \u001b[38;5;28;01mdef\u001b[39;00m \u001b[38;5;21m__call__\u001b[39m(\u001b[38;5;28mself\u001b[39m, a, shape, \u001b[38;5;241m*\u001b[39m\u001b[38;5;241m*\u001b[39mkwargs):\n\u001b[0;32m-> 1558\u001b[0m     \u001b[38;5;28;01mreturn\u001b[39;00m \u001b[38;5;28;43msuper\u001b[39;49m\u001b[43m(\u001b[49m\u001b[43m)\u001b[49m\u001b[38;5;241;43m.\u001b[39;49m\u001b[38;5;21;43m__call__\u001b[39;49m\u001b[43m(\u001b[49m\u001b[43ma\u001b[49m\u001b[43m,\u001b[49m\u001b[43m \u001b[49m\u001b[38;5;241;43m*\u001b[39;49m\u001b[43mshape\u001b[49m\u001b[43m,\u001b[49m\u001b[43m \u001b[49m\u001b[38;5;241;43m*\u001b[39;49m\u001b[38;5;241;43m*\u001b[39;49m\u001b[43mkwargs\u001b[49m\u001b[43m)\u001b[49m\n",
      "File \u001b[0;32m~/mambaforge/envs/pymc_env/lib/python3.10/site-packages/aesara/graph/op.py:294\u001b[0m, in \u001b[0;36mOp.__call__\u001b[0;34m(self, *inputs, **kwargs)\u001b[0m\n\u001b[1;32m    252\u001b[0m \u001b[38;5;124mr\u001b[39m\u001b[38;5;124;03m\"\"\"Construct an `Apply` node using :meth:`Op.make_node` and return its outputs.\u001b[39;00m\n\u001b[1;32m    253\u001b[0m \n\u001b[1;32m    254\u001b[0m \u001b[38;5;124;03mThis method is just a wrapper around :meth:`Op.make_node`.\u001b[39;00m\n\u001b[0;32m   (...)\u001b[0m\n\u001b[1;32m    291\u001b[0m \n\u001b[1;32m    292\u001b[0m \u001b[38;5;124;03m\"\"\"\u001b[39;00m\n\u001b[1;32m    293\u001b[0m return_list \u001b[38;5;241m=\u001b[39m kwargs\u001b[38;5;241m.\u001b[39mpop(\u001b[38;5;124m\"\u001b[39m\u001b[38;5;124mreturn_list\u001b[39m\u001b[38;5;124m\"\u001b[39m, \u001b[38;5;28;01mFalse\u001b[39;00m)\n\u001b[0;32m--> 294\u001b[0m node \u001b[38;5;241m=\u001b[39m \u001b[38;5;28;43mself\u001b[39;49m\u001b[38;5;241;43m.\u001b[39;49m\u001b[43mmake_node\u001b[49m\u001b[43m(\u001b[49m\u001b[38;5;241;43m*\u001b[39;49m\u001b[43minputs\u001b[49m\u001b[43m,\u001b[49m\u001b[43m \u001b[49m\u001b[38;5;241;43m*\u001b[39;49m\u001b[38;5;241;43m*\u001b[39;49m\u001b[43mkwargs\u001b[49m\u001b[43m)\u001b[49m\n\u001b[1;32m    296\u001b[0m \u001b[38;5;28;01mif\u001b[39;00m config\u001b[38;5;241m.\u001b[39mcompute_test_value \u001b[38;5;241m!=\u001b[39m \u001b[38;5;124m\"\u001b[39m\u001b[38;5;124moff\u001b[39m\u001b[38;5;124m\"\u001b[39m:\n\u001b[1;32m    297\u001b[0m     compute_test_value(node)\n",
      "File \u001b[0;32m~/mambaforge/envs/pymc_env/lib/python3.10/site-packages/aesara/tensor/extra_ops.py:1563\u001b[0m, in \u001b[0;36mBroadcastTo.make_node\u001b[0;34m(self, a, *shape)\u001b[0m\n\u001b[1;32m   1560\u001b[0m \u001b[38;5;28;01mdef\u001b[39;00m \u001b[38;5;21mmake_node\u001b[39m(\u001b[38;5;28mself\u001b[39m, a, \u001b[38;5;241m*\u001b[39mshape):\n\u001b[1;32m   1561\u001b[0m     a \u001b[38;5;241m=\u001b[39m at\u001b[38;5;241m.\u001b[39mas_tensor_variable(a)\n\u001b[0;32m-> 1563\u001b[0m     shape, bcast \u001b[38;5;241m=\u001b[39m \u001b[43mat\u001b[49m\u001b[38;5;241;43m.\u001b[39;49m\u001b[43minfer_broadcastable\u001b[49m\u001b[43m(\u001b[49m\u001b[43mshape\u001b[49m\u001b[43m)\u001b[49m\n\u001b[1;32m   1565\u001b[0m     out \u001b[38;5;241m=\u001b[39m TensorType(dtype\u001b[38;5;241m=\u001b[39ma\u001b[38;5;241m.\u001b[39mtype\u001b[38;5;241m.\u001b[39mdtype, shape\u001b[38;5;241m=\u001b[39mbcast)()\n\u001b[1;32m   1567\u001b[0m     \u001b[38;5;66;03m# Attempt to prevent in-place operations on this view-based output\u001b[39;00m\n",
      "File \u001b[0;32m~/mambaforge/envs/pymc_env/lib/python3.10/site-packages/aesara/tensor/basic.py:1456\u001b[0m, in \u001b[0;36minfer_broadcastable\u001b[0;34m(shape)\u001b[0m\n\u001b[1;32m   1449\u001b[0m sh \u001b[38;5;241m=\u001b[39m [check_type(as_tensor_variable(s, ndim\u001b[38;5;241m=\u001b[39m\u001b[38;5;241m0\u001b[39m)) \u001b[38;5;28;01mfor\u001b[39;00m s \u001b[38;5;129;01min\u001b[39;00m shape]\n\u001b[1;32m   1451\u001b[0m shape_fg \u001b[38;5;241m=\u001b[39m FunctionGraph(\n\u001b[1;32m   1452\u001b[0m     outputs\u001b[38;5;241m=\u001b[39msh,\n\u001b[1;32m   1453\u001b[0m     features\u001b[38;5;241m=\u001b[39m[ShapeFeature()],\n\u001b[1;32m   1454\u001b[0m     clone\u001b[38;5;241m=\u001b[39m\u001b[38;5;28;01mTrue\u001b[39;00m,\n\u001b[1;32m   1455\u001b[0m )\n\u001b[0;32m-> 1456\u001b[0m folded_shape \u001b[38;5;241m=\u001b[39m \u001b[43moptimize_graph\u001b[49m\u001b[43m(\u001b[49m\u001b[43mshape_fg\u001b[49m\u001b[43m,\u001b[49m\u001b[43m \u001b[49m\u001b[43mcustom_opt\u001b[49m\u001b[38;5;241;43m=\u001b[39;49m\u001b[43mtopo_constant_folding\u001b[49m\u001b[43m)\u001b[49m\u001b[38;5;241m.\u001b[39moutputs\n\u001b[1;32m   1458\u001b[0m bcast \u001b[38;5;241m=\u001b[39m \u001b[38;5;28mtuple\u001b[39m(\u001b[38;5;28mgetattr\u001b[39m(s, \u001b[38;5;124m\"\u001b[39m\u001b[38;5;124mdata\u001b[39m\u001b[38;5;124m\"\u001b[39m, s) \u001b[38;5;241m==\u001b[39m \u001b[38;5;241m1\u001b[39m \u001b[38;5;28;01mfor\u001b[39;00m s \u001b[38;5;129;01min\u001b[39;00m folded_shape)\n\u001b[1;32m   1459\u001b[0m \u001b[38;5;28;01mreturn\u001b[39;00m sh, bcast\n",
      "File \u001b[0;32m~/mambaforge/envs/pymc_env/lib/python3.10/site-packages/aesara/graph/opt_utils.py:47\u001b[0m, in \u001b[0;36moptimize_graph\u001b[0;34m(fgraph, include, custom_opt, clone, **kwargs)\u001b[0m\n\u001b[1;32m     44\u001b[0m     return_only_out \u001b[38;5;241m=\u001b[39m \u001b[38;5;28;01mTrue\u001b[39;00m\n\u001b[1;32m     46\u001b[0m canonicalize_opt \u001b[38;5;241m=\u001b[39m optdb\u001b[38;5;241m.\u001b[39mquery(OptimizationQuery(include\u001b[38;5;241m=\u001b[39minclude, \u001b[38;5;241m*\u001b[39m\u001b[38;5;241m*\u001b[39mkwargs))\n\u001b[0;32m---> 47\u001b[0m _ \u001b[38;5;241m=\u001b[39m \u001b[43mcanonicalize_opt\u001b[49m\u001b[38;5;241;43m.\u001b[39;49m\u001b[43moptimize\u001b[49m\u001b[43m(\u001b[49m\u001b[43mfgraph\u001b[49m\u001b[43m)\u001b[49m\n\u001b[1;32m     49\u001b[0m \u001b[38;5;28;01mif\u001b[39;00m custom_opt:\n\u001b[1;32m     50\u001b[0m     custom_opt\u001b[38;5;241m.\u001b[39moptimize(fgraph)\n",
      "File \u001b[0;32m~/mambaforge/envs/pymc_env/lib/python3.10/site-packages/aesara/graph/opt.py:103\u001b[0m, in \u001b[0;36mGlobalOptimizer.optimize\u001b[0;34m(self, fgraph, *args, **kwargs)\u001b[0m\n\u001b[1;32m     94\u001b[0m \u001b[38;5;124;03m\"\"\"\u001b[39;00m\n\u001b[1;32m     95\u001b[0m \n\u001b[1;32m     96\u001b[0m \u001b[38;5;124;03mThis is meant as a shortcut for the following::\u001b[39;00m\n\u001b[0;32m   (...)\u001b[0m\n\u001b[1;32m    100\u001b[0m \n\u001b[1;32m    101\u001b[0m \u001b[38;5;124;03m\"\"\"\u001b[39;00m\n\u001b[1;32m    102\u001b[0m \u001b[38;5;28mself\u001b[39m\u001b[38;5;241m.\u001b[39madd_requirements(fgraph)\n\u001b[0;32m--> 103\u001b[0m ret \u001b[38;5;241m=\u001b[39m \u001b[38;5;28;43mself\u001b[39;49m\u001b[38;5;241;43m.\u001b[39;49m\u001b[43mapply\u001b[49m\u001b[43m(\u001b[49m\u001b[43mfgraph\u001b[49m\u001b[43m,\u001b[49m\u001b[43m \u001b[49m\u001b[38;5;241;43m*\u001b[39;49m\u001b[43margs\u001b[49m\u001b[43m,\u001b[49m\u001b[43m \u001b[49m\u001b[38;5;241;43m*\u001b[39;49m\u001b[38;5;241;43m*\u001b[39;49m\u001b[43mkwargs\u001b[49m\u001b[43m)\u001b[49m\n\u001b[1;32m    104\u001b[0m \u001b[38;5;28;01mreturn\u001b[39;00m ret\n",
      "File \u001b[0;32m~/mambaforge/envs/pymc_env/lib/python3.10/site-packages/aesara/graph/opt.py:280\u001b[0m, in \u001b[0;36mSeqOptimizer.apply\u001b[0;34m(self, fgraph)\u001b[0m\n\u001b[1;32m    278\u001b[0m nb_nodes_before \u001b[38;5;241m=\u001b[39m \u001b[38;5;28mlen\u001b[39m(fgraph\u001b[38;5;241m.\u001b[39mapply_nodes)\n\u001b[1;32m    279\u001b[0m t0 \u001b[38;5;241m=\u001b[39m time\u001b[38;5;241m.\u001b[39mtime()\n\u001b[0;32m--> 280\u001b[0m sub_prof \u001b[38;5;241m=\u001b[39m \u001b[43moptimizer\u001b[49m\u001b[38;5;241;43m.\u001b[39;49m\u001b[43moptimize\u001b[49m\u001b[43m(\u001b[49m\u001b[43mfgraph\u001b[49m\u001b[43m)\u001b[49m\n\u001b[1;32m    281\u001b[0m l\u001b[38;5;241m.\u001b[39mappend(\u001b[38;5;28mfloat\u001b[39m(time\u001b[38;5;241m.\u001b[39mtime() \u001b[38;5;241m-\u001b[39m t0))\n\u001b[1;32m    282\u001b[0m sub_profs\u001b[38;5;241m.\u001b[39mappend(sub_prof)\n",
      "File \u001b[0;32m~/mambaforge/envs/pymc_env/lib/python3.10/site-packages/aesara/graph/opt.py:103\u001b[0m, in \u001b[0;36mGlobalOptimizer.optimize\u001b[0;34m(self, fgraph, *args, **kwargs)\u001b[0m\n\u001b[1;32m     94\u001b[0m \u001b[38;5;124;03m\"\"\"\u001b[39;00m\n\u001b[1;32m     95\u001b[0m \n\u001b[1;32m     96\u001b[0m \u001b[38;5;124;03mThis is meant as a shortcut for the following::\u001b[39;00m\n\u001b[0;32m   (...)\u001b[0m\n\u001b[1;32m    100\u001b[0m \n\u001b[1;32m    101\u001b[0m \u001b[38;5;124;03m\"\"\"\u001b[39;00m\n\u001b[1;32m    102\u001b[0m \u001b[38;5;28mself\u001b[39m\u001b[38;5;241m.\u001b[39madd_requirements(fgraph)\n\u001b[0;32m--> 103\u001b[0m ret \u001b[38;5;241m=\u001b[39m \u001b[38;5;28;43mself\u001b[39;49m\u001b[38;5;241;43m.\u001b[39;49m\u001b[43mapply\u001b[49m\u001b[43m(\u001b[49m\u001b[43mfgraph\u001b[49m\u001b[43m,\u001b[49m\u001b[43m \u001b[49m\u001b[38;5;241;43m*\u001b[39;49m\u001b[43margs\u001b[49m\u001b[43m,\u001b[49m\u001b[43m \u001b[49m\u001b[38;5;241;43m*\u001b[39;49m\u001b[38;5;241;43m*\u001b[39;49m\u001b[43mkwargs\u001b[49m\u001b[43m)\u001b[49m\n\u001b[1;32m    104\u001b[0m \u001b[38;5;28;01mreturn\u001b[39;00m ret\n",
      "File \u001b[0;32m~/mambaforge/envs/pymc_env/lib/python3.10/site-packages/aesara/graph/opt.py:2357\u001b[0m, in \u001b[0;36mEquilibriumOptimizer.apply\u001b[0;34m(self, fgraph, start_from)\u001b[0m\n\u001b[1;32m   2355\u001b[0m nb \u001b[38;5;241m=\u001b[39m change_tracker\u001b[38;5;241m.\u001b[39mnb_imported\n\u001b[1;32m   2356\u001b[0m t_opt \u001b[38;5;241m=\u001b[39m time\u001b[38;5;241m.\u001b[39mtime()\n\u001b[0;32m-> 2357\u001b[0m sub_prof \u001b[38;5;241m=\u001b[39m \u001b[43mgopt\u001b[49m\u001b[38;5;241;43m.\u001b[39;49m\u001b[43mapply\u001b[49m\u001b[43m(\u001b[49m\u001b[43mfgraph\u001b[49m\u001b[43m)\u001b[49m\n\u001b[1;32m   2358\u001b[0m time_opts[gopt] \u001b[38;5;241m+\u001b[39m\u001b[38;5;241m=\u001b[39m time\u001b[38;5;241m.\u001b[39mtime() \u001b[38;5;241m-\u001b[39m t_opt\n\u001b[1;32m   2359\u001b[0m sub_profs\u001b[38;5;241m.\u001b[39mappend(sub_prof)\n",
      "File \u001b[0;32m~/mambaforge/envs/pymc_env/lib/python3.10/site-packages/aesara/graph/opt.py:1960\u001b[0m, in \u001b[0;36mTopoOptimizer.apply\u001b[0;34m(self, fgraph, start_from)\u001b[0m\n\u001b[1;32m   1958\u001b[0m             \u001b[38;5;28;01mcontinue\u001b[39;00m\n\u001b[1;32m   1959\u001b[0m         current_node \u001b[38;5;241m=\u001b[39m node\n\u001b[0;32m-> 1960\u001b[0m         nb \u001b[38;5;241m+\u001b[39m\u001b[38;5;241m=\u001b[39m \u001b[38;5;28;43mself\u001b[39;49m\u001b[38;5;241;43m.\u001b[39;49m\u001b[43mprocess_node\u001b[49m\u001b[43m(\u001b[49m\u001b[43mfgraph\u001b[49m\u001b[43m,\u001b[49m\u001b[43m \u001b[49m\u001b[43mnode\u001b[49m\u001b[43m)\u001b[49m\n\u001b[1;32m   1961\u001b[0m     loop_t \u001b[38;5;241m=\u001b[39m time\u001b[38;5;241m.\u001b[39mtime() \u001b[38;5;241m-\u001b[39m t0\n\u001b[1;32m   1962\u001b[0m \u001b[38;5;28;01mfinally\u001b[39;00m:\n",
      "File \u001b[0;32m~/mambaforge/envs/pymc_env/lib/python3.10/site-packages/aesara/graph/opt.py:1853\u001b[0m, in \u001b[0;36mNavigatorOptimizer.process_node\u001b[0;34m(self, fgraph, node, lopt)\u001b[0m\n\u001b[1;32m   1851\u001b[0m \u001b[38;5;28;01mexcept\u001b[39;00m \u001b[38;5;167;01mException\u001b[39;00m \u001b[38;5;28;01mas\u001b[39;00m e:\n\u001b[1;32m   1852\u001b[0m     \u001b[38;5;28;01mif\u001b[39;00m \u001b[38;5;28mself\u001b[39m\u001b[38;5;241m.\u001b[39mfailure_callback \u001b[38;5;129;01mis\u001b[39;00m \u001b[38;5;129;01mnot\u001b[39;00m \u001b[38;5;28;01mNone\u001b[39;00m:\n\u001b[0;32m-> 1853\u001b[0m         \u001b[38;5;28;43mself\u001b[39;49m\u001b[38;5;241;43m.\u001b[39;49m\u001b[43mfailure_callback\u001b[49m\u001b[43m(\u001b[49m\n\u001b[1;32m   1854\u001b[0m \u001b[43m            \u001b[49m\u001b[43me\u001b[49m\u001b[43m,\u001b[49m\u001b[43m \u001b[49m\u001b[38;5;28;43mself\u001b[39;49m\u001b[43m,\u001b[49m\u001b[43m \u001b[49m\u001b[43m[\u001b[49m\u001b[43m(\u001b[49m\u001b[43mx\u001b[49m\u001b[43m,\u001b[49m\u001b[43m \u001b[49m\u001b[38;5;28;43;01mNone\u001b[39;49;00m\u001b[43m)\u001b[49m\u001b[43m \u001b[49m\u001b[38;5;28;43;01mfor\u001b[39;49;00m\u001b[43m \u001b[49m\u001b[43mx\u001b[49m\u001b[43m \u001b[49m\u001b[38;5;129;43;01min\u001b[39;49;00m\u001b[43m \u001b[49m\u001b[43mnode\u001b[49m\u001b[38;5;241;43m.\u001b[39;49m\u001b[43moutputs\u001b[49m\u001b[43m]\u001b[49m\u001b[43m,\u001b[49m\u001b[43m \u001b[49m\u001b[43mlopt\u001b[49m\u001b[43m,\u001b[49m\u001b[43m \u001b[49m\u001b[43mnode\u001b[49m\n\u001b[1;32m   1855\u001b[0m \u001b[43m        \u001b[49m\u001b[43m)\u001b[49m\n\u001b[1;32m   1856\u001b[0m         \u001b[38;5;28;01mreturn\u001b[39;00m \u001b[38;5;28;01mFalse\u001b[39;00m\n\u001b[1;32m   1857\u001b[0m     \u001b[38;5;28;01melse\u001b[39;00m:\n",
      "File \u001b[0;32m~/mambaforge/envs/pymc_env/lib/python3.10/site-packages/aesara/graph/opt.py:1756\u001b[0m, in \u001b[0;36mNavigatorOptimizer.warn_inplace\u001b[0;34m(exc, nav, repl_pairs, local_opt, node)\u001b[0m\n\u001b[1;32m   1754\u001b[0m \u001b[38;5;28;01mif\u001b[39;00m \u001b[38;5;28misinstance\u001b[39m(exc, InconsistencyError):\n\u001b[1;32m   1755\u001b[0m     \u001b[38;5;28;01mreturn\u001b[39;00m\n\u001b[0;32m-> 1756\u001b[0m \u001b[38;5;28;01mreturn\u001b[39;00m \u001b[43mNavigatorOptimizer\u001b[49m\u001b[38;5;241;43m.\u001b[39;49m\u001b[43mwarn\u001b[49m\u001b[43m(\u001b[49m\u001b[43mexc\u001b[49m\u001b[43m,\u001b[49m\u001b[43m \u001b[49m\u001b[43mnav\u001b[49m\u001b[43m,\u001b[49m\u001b[43m \u001b[49m\u001b[43mrepl_pairs\u001b[49m\u001b[43m,\u001b[49m\u001b[43m \u001b[49m\u001b[43mlocal_opt\u001b[49m\u001b[43m,\u001b[49m\u001b[43m \u001b[49m\u001b[43mnode\u001b[49m\u001b[43m)\u001b[49m\n",
      "File \u001b[0;32m~/mambaforge/envs/pymc_env/lib/python3.10/site-packages/aesara/graph/opt.py:1744\u001b[0m, in \u001b[0;36mNavigatorOptimizer.warn\u001b[0;34m(exc, nav, repl_pairs, local_opt, node)\u001b[0m\n\u001b[1;32m   1740\u001b[0m     pdb\u001b[38;5;241m.\u001b[39mpost_mortem(sys\u001b[38;5;241m.\u001b[39mexc_info()[\u001b[38;5;241m2\u001b[39m])\n\u001b[1;32m   1741\u001b[0m \u001b[38;5;28;01melif\u001b[39;00m \u001b[38;5;28misinstance\u001b[39m(exc, \u001b[38;5;167;01mAssertionError\u001b[39;00m) \u001b[38;5;129;01mor\u001b[39;00m config\u001b[38;5;241m.\u001b[39mon_opt_error \u001b[38;5;241m==\u001b[39m \u001b[38;5;124m\"\u001b[39m\u001b[38;5;124mraise\u001b[39m\u001b[38;5;124m\"\u001b[39m:\n\u001b[1;32m   1742\u001b[0m     \u001b[38;5;66;03m# We always crash on AssertionError because something may be\u001b[39;00m\n\u001b[1;32m   1743\u001b[0m     \u001b[38;5;66;03m# seriously wrong if such an exception is raised.\u001b[39;00m\n\u001b[0;32m-> 1744\u001b[0m     \u001b[38;5;28;01mraise\u001b[39;00m exc\n",
      "File \u001b[0;32m~/mambaforge/envs/pymc_env/lib/python3.10/site-packages/aesara/graph/opt.py:1850\u001b[0m, in \u001b[0;36mNavigatorOptimizer.process_node\u001b[0;34m(self, fgraph, node, lopt)\u001b[0m\n\u001b[1;32m   1848\u001b[0m lopt \u001b[38;5;241m=\u001b[39m lopt \u001b[38;5;129;01mor\u001b[39;00m \u001b[38;5;28mself\u001b[39m\u001b[38;5;241m.\u001b[39mlocal_opt\n\u001b[1;32m   1849\u001b[0m \u001b[38;5;28;01mtry\u001b[39;00m:\n\u001b[0;32m-> 1850\u001b[0m     replacements \u001b[38;5;241m=\u001b[39m \u001b[43mlopt\u001b[49m\u001b[38;5;241;43m.\u001b[39;49m\u001b[43mtransform\u001b[49m\u001b[43m(\u001b[49m\u001b[43mfgraph\u001b[49m\u001b[43m,\u001b[49m\u001b[43m \u001b[49m\u001b[43mnode\u001b[49m\u001b[43m)\u001b[49m\n\u001b[1;32m   1851\u001b[0m \u001b[38;5;28;01mexcept\u001b[39;00m \u001b[38;5;167;01mException\u001b[39;00m \u001b[38;5;28;01mas\u001b[39;00m e:\n\u001b[1;32m   1852\u001b[0m     \u001b[38;5;28;01mif\u001b[39;00m \u001b[38;5;28mself\u001b[39m\u001b[38;5;241m.\u001b[39mfailure_callback \u001b[38;5;129;01mis\u001b[39;00m \u001b[38;5;129;01mnot\u001b[39;00m \u001b[38;5;28;01mNone\u001b[39;00m:\n",
      "File \u001b[0;32m~/mambaforge/envs/pymc_env/lib/python3.10/site-packages/aesara/graph/opt.py:1055\u001b[0m, in \u001b[0;36mFromFunctionLocalOptimizer.transform\u001b[0;34m(self, fgraph, node)\u001b[0m\n\u001b[1;32m   1050\u001b[0m     \u001b[38;5;28;01mif\u001b[39;00m \u001b[38;5;129;01mnot\u001b[39;00m (\n\u001b[1;32m   1051\u001b[0m         node\u001b[38;5;241m.\u001b[39mop \u001b[38;5;129;01min\u001b[39;00m \u001b[38;5;28mself\u001b[39m\u001b[38;5;241m.\u001b[39m_tracks \u001b[38;5;129;01mor\u001b[39;00m \u001b[38;5;28misinstance\u001b[39m(node\u001b[38;5;241m.\u001b[39mop, \u001b[38;5;28mself\u001b[39m\u001b[38;5;241m.\u001b[39m_tracked_types)\n\u001b[1;32m   1052\u001b[0m     ):\n\u001b[1;32m   1053\u001b[0m         \u001b[38;5;28;01mreturn\u001b[39;00m \u001b[38;5;28;01mFalse\u001b[39;00m\n\u001b[0;32m-> 1055\u001b[0m \u001b[38;5;28;01mreturn\u001b[39;00m \u001b[38;5;28;43mself\u001b[39;49m\u001b[38;5;241;43m.\u001b[39;49m\u001b[43mfn\u001b[49m\u001b[43m(\u001b[49m\u001b[43mfgraph\u001b[49m\u001b[43m,\u001b[49m\u001b[43m \u001b[49m\u001b[43mnode\u001b[49m\u001b[43m)\u001b[49m\n",
      "File \u001b[0;32m~/mambaforge/envs/pymc_env/lib/python3.10/site-packages/aesara/tensor/basic_opt.py:2944\u001b[0m, in \u001b[0;36mconstant_folding\u001b[0;34m(fgraph, node)\u001b[0m\n\u001b[1;32m   2941\u001b[0m     compute_map[o] \u001b[38;5;241m=\u001b[39m [\u001b[38;5;28;01mFalse\u001b[39;00m]\n\u001b[1;32m   2943\u001b[0m thunk \u001b[38;5;241m=\u001b[39m node\u001b[38;5;241m.\u001b[39mop\u001b[38;5;241m.\u001b[39mmake_thunk(node, storage_map, compute_map, no_recycling\u001b[38;5;241m=\u001b[39m[])\n\u001b[0;32m-> 2944\u001b[0m required \u001b[38;5;241m=\u001b[39m \u001b[43mthunk\u001b[49m\u001b[43m(\u001b[49m\u001b[43m)\u001b[49m\n\u001b[1;32m   2946\u001b[0m \u001b[38;5;66;03m# A node whose inputs are all provided should always return successfully\u001b[39;00m\n\u001b[1;32m   2947\u001b[0m \u001b[38;5;28;01massert\u001b[39;00m \u001b[38;5;129;01mnot\u001b[39;00m required\n",
      "File \u001b[0;32m~/mambaforge/envs/pymc_env/lib/python3.10/site-packages/aesara/link/c/op.py:103\u001b[0m, in \u001b[0;36mCOp.make_c_thunk.<locals>.rval\u001b[0;34m()\u001b[0m\n\u001b[1;32m    101\u001b[0m \u001b[38;5;129m@is_cthunk_wrapper_type\u001b[39m\n\u001b[1;32m    102\u001b[0m \u001b[38;5;28;01mdef\u001b[39;00m \u001b[38;5;21mrval\u001b[39m():\n\u001b[0;32m--> 103\u001b[0m     \u001b[43mthunk\u001b[49m\u001b[43m(\u001b[49m\u001b[43m)\u001b[49m\n\u001b[1;32m    104\u001b[0m     \u001b[38;5;28;01mfor\u001b[39;00m o \u001b[38;5;129;01min\u001b[39;00m node\u001b[38;5;241m.\u001b[39moutputs:\n\u001b[1;32m    105\u001b[0m         compute_map[o][\u001b[38;5;241m0\u001b[39m] \u001b[38;5;241m=\u001b[39m \u001b[38;5;28;01mTrue\u001b[39;00m\n",
      "File \u001b[0;32m~/mambaforge/envs/pymc_env/lib/python3.10/site-packages/aesara/link/c/basic.py:1760\u001b[0m, in \u001b[0;36m_CThunk.__call__\u001b[0;34m(self)\u001b[0m\n\u001b[1;32m   1758\u001b[0m     \u001b[38;5;28mprint\u001b[39m(\u001b[38;5;28mself\u001b[39m\u001b[38;5;241m.\u001b[39merror_storage, file\u001b[38;5;241m=\u001b[39msys\u001b[38;5;241m.\u001b[39mstderr)\n\u001b[1;32m   1759\u001b[0m     \u001b[38;5;28;01mraise\u001b[39;00m\n\u001b[0;32m-> 1760\u001b[0m \u001b[38;5;28;01mraise\u001b[39;00m exc_value\u001b[38;5;241m.\u001b[39mwith_traceback(exc_trace)\n",
      "\u001b[0;31mAssertionError\u001b[0m: Could not broadcast dimensions"
     ]
    }
   ],
   "source": [
    "with pm.Model(coords=coords) as m:\n",
    "    beta1 = pm.Normal(\"beta1\", 20, tau=.001, dims=\"gender\")\n",
    "    beta2 = pm.Normal(\"beta2\", 1, tau=.001, dims=\"gender\")\n",
    "    g = pm.Data(\"gender_idx\", gender, dims=\"id\", mutable=False)\n",
    "\n",
    "    # T = pm.Wishart(\"T\", nu=4, V=C) # might need to switch to LKJ\n",
    "    T, corr, stds = pm.LKJCholeskyCov(\"T\", n=4, eta=1, sd_dist=pm.Normal.dist(0, 1), compute_corr=True)\n",
    "\n",
    "    mu = pm.Deterministic(\"mu\", beta1[g] + beta2[g] * t, dims=(\"gender\", \"t\")) # mu should be shape (2, 4)? but mvnormal mu should be a vector...\n",
    "    pm.MvNormal(\"likelihood\", mu, chol=T, observed=y) # (26, 4)\n",
    "\n",
    "    pm.Deterministic(\"corr\", corr)\n",
    "    #V = matrix_inverse(T)\n",
    "    #diag_sqrt = sqrt(extract_diag(V))\n",
    "    #V = V/diag_sqrt[:, None]\n",
    "    #corr = pm.Deterministic(\"corr\", V/diag_sqrt[None, :])\n",
    "\n",
    "    trace = pm.sample(2000)"
   ]
  },
  {
   "cell_type": "code",
   "execution_count": null,
   "id": "12d065a3",
   "metadata": {},
   "outputs": [],
   "source": []
  }
 ],
 "metadata": {
  "kernelspec": {
   "display_name": "Python 3 (ipykernel)",
   "language": "python",
   "name": "python3"
  },
  "language_info": {
   "codemirror_mode": {
    "name": "ipython",
    "version": 3
   },
   "file_extension": ".py",
   "mimetype": "text/x-python",
   "name": "python",
   "nbconvert_exporter": "python",
   "pygments_lexer": "ipython3",
   "version": "3.10.4"
  }
 },
 "nbformat": 4,
 "nbformat_minor": 5
}
