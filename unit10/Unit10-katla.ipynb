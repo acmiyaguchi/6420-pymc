{
 "cells": [
  {
   "cell_type": "code",
   "execution_count": 4,
   "id": "343278f8",
   "metadata": {},
   "outputs": [],
   "source": [
    "import pymc as pm\n",
    "import numpy as np\n",
    "import arviz as az\n",
    "import pandas as pd\n",
    "\n",
    "%load_ext lab_black\n",
    "%load_ext watermark"
   ]
  },
  {
   "cell_type": "markdown",
   "id": "d7d39974",
   "metadata": {},
   "source": [
    "# Predicting using censored data\n",
    "\n",
    "This example demonstrates ...\n",
    "\n",
    "Adapted from [unit 10: katla.odc](https://raw.githubusercontent.com/areding/6420-pymc/main/original_examples/Codes4Unit10/katla.odc).\n",
    "\n",
    "Data can be found [here](https://raw.githubusercontent.com/areding/6420-pymc/main/data/r.txt).\n",
    "\n",
    "## Associated lecture video: Unit 10 Lesson 6"
   ]
  },
  {
   "cell_type": "code",
   "execution_count": 1,
   "id": "e04e3eb6",
   "metadata": {},
   "outputs": [
    {
     "data": {
      "text/html": [
       "<iframe width=\"560\" height=\"315\" src=\"https://www.youtube.com/embed?v=xomK4tcePmc&list=PLv0FeK5oXK4l-RdT6DWJj0_upJOG2WKNO&index=103\" frameborder=\"0\" allow=\"autoplay; encrypted-media\" allowfullscreen></iframe>\n"
      ],
      "text/plain": [
       "<IPython.core.display.HTML object>"
      ]
     },
     "metadata": {},
     "output_type": "display_data"
    }
   ],
   "source": [
    "%%html\n",
    "<iframe width=\"560\" height=\"315\" src=\"https://www.youtube.com/embed?v=xomK4tcePmc&list=PLv0FeK5oXK4l-RdT6DWJj0_upJOG2WKNO&index=103\" frameborder=\"0\" allow=\"autoplay; encrypted-media\" allowfullscreen></iframe>"
   ]
  },
  {
   "cell_type": "markdown",
   "id": "12bc15ce",
   "metadata": {},
   "source": [
    "## Problem statement\n",
    "\n",
    "In 2010 Icelandic volcano Eyjafjallajökull erupted. Nearby volcano Katla erupts more frequently.\n",
    "\n",
    "Prediction for next Katla erruption (BUGS Book p254)\n",
    "\n",
    "\n",
    "\n",
    "notes:\n",
    "\n",
    "Having problems with Weibull and pm.Censored again! What is the deal here? Imputed censoring works fine."
   ]
  },
  {
   "cell_type": "code",
   "execution_count": 59,
   "id": "b65538e4",
   "metadata": {},
   "outputs": [
    {
     "data": {
      "text/plain": [
       "array([ 85,  49,  46,  59,  24,  10,  50,  50,  30,  32,  13,  35,  61,\n",
       "        34,  68,  37,  58, 182])"
      ]
     },
     "execution_count": 59,
     "metadata": {},
     "output_type": "execute_result"
    }
   ],
   "source": [
    "# fmt: off\n",
    "D = np.array(\n",
    "    (1177, 1262, 1311, 1357, 1416, 1440, 1450, 1500, 1550, \n",
    "     1580, 1612, 1625, 1660, 1721, 1755, 1823, 1860, 1918, 2100)\n",
    ")\n",
    "# fmt: on\n",
    "\n",
    "ps = [1, 5, 10, 50]\n",
    "\n",
    "# time between eruptions\n",
    "t = np.diff(D)\n",
    "t"
   ]
  },
  {
   "cell_type": "code",
   "execution_count": 64,
   "id": "84412cdf",
   "metadata": {},
   "outputs": [
    {
     "name": "stderr",
     "output_type": "stream",
     "text": [
      "Auto-assigning NUTS sampler...\n",
      "INFO:pymc:Auto-assigning NUTS sampler...\n",
      "Initializing NUTS using jitter+adapt_diag...\n",
      "INFO:pymc:Initializing NUTS using jitter+adapt_diag...\n"
     ]
    },
    {
     "ename": "SamplingError",
     "evalue": "Initial evaluation of model at starting point failed!\nStarting values:\n{'α_interval__': array(0.23778551), 'σ_log__': array(-0.00467777)}\n\nInitial evaluation results:\n{'α': -1.63, 'σ': -6.92, 'likelihood': -inf}",
     "output_type": "error",
     "traceback": [
      "\u001b[0;31m---------------------------------------------------------------------------\u001b[0m",
      "\u001b[0;31mSamplingError\u001b[0m                             Traceback (most recent call last)",
      "Input \u001b[0;32mIn [64]\u001b[0m, in \u001b[0;36m<cell line: 1>\u001b[0;34m()\u001b[0m\n\u001b[1;32m     13\u001b[0m \u001b[38;5;28;01mfor\u001b[39;00m p \u001b[38;5;129;01min\u001b[39;00m ps:\n\u001b[1;32m     14\u001b[0m     pm\u001b[38;5;241m.\u001b[39mDeterministic(\n\u001b[1;32m     15\u001b[0m         \u001b[38;5;124mf\u001b[39m\u001b[38;5;124m\"\u001b[39m\u001b[38;5;124mp_erupt_\u001b[39m\u001b[38;5;132;01m{\u001b[39;00mp\u001b[38;5;132;01m}\u001b[39;00m\u001b[38;5;124m\"\u001b[39m, \u001b[38;5;241m1\u001b[39m \u001b[38;5;241m-\u001b[39m pm\u001b[38;5;241m.\u001b[39mmath\u001b[38;5;241m.\u001b[39mexp((\u001b[38;5;241m100\u001b[39m \u001b[38;5;241m/\u001b[39m σ) \u001b[38;5;241m*\u001b[39m\u001b[38;5;241m*\u001b[39m α \u001b[38;5;241m-\u001b[39m ((\u001b[38;5;241m100\u001b[39m \u001b[38;5;241m+\u001b[39m p) \u001b[38;5;241m/\u001b[39m σ) \u001b[38;5;241m*\u001b[39m\u001b[38;5;241m*\u001b[39m α)\n\u001b[1;32m     16\u001b[0m     )\n\u001b[0;32m---> 18\u001b[0m trace\u001b[38;5;241m=\u001b[39m\u001b[43mpm\u001b[49m\u001b[38;5;241;43m.\u001b[39;49m\u001b[43msample\u001b[49m\u001b[43m(\u001b[49m\u001b[38;5;241;43m3000\u001b[39;49m\u001b[43m)\u001b[49m\n",
      "File \u001b[0;32m~/mambaforge/envs/pymc_env/lib/python3.10/site-packages/pymc/sampling.py:558\u001b[0m, in \u001b[0;36msample\u001b[0;34m(draws, step, init, n_init, initvals, trace, chain_idx, chains, cores, tune, progressbar, model, random_seed, discard_tuned_samples, compute_convergence_checks, callback, jitter_max_retries, return_inferencedata, idata_kwargs, mp_ctx, **kwargs)\u001b[0m\n\u001b[1;32m    556\u001b[0m \u001b[38;5;66;03m# One final check that shapes and logps at the starting points are okay.\u001b[39;00m\n\u001b[1;32m    557\u001b[0m \u001b[38;5;28;01mfor\u001b[39;00m ip \u001b[38;5;129;01min\u001b[39;00m initial_points:\n\u001b[0;32m--> 558\u001b[0m     \u001b[43mmodel\u001b[49m\u001b[38;5;241;43m.\u001b[39;49m\u001b[43mcheck_start_vals\u001b[49m\u001b[43m(\u001b[49m\u001b[43mip\u001b[49m\u001b[43m)\u001b[49m\n\u001b[1;32m    559\u001b[0m     _check_start_shape(model, ip)\n\u001b[1;32m    561\u001b[0m sample_args \u001b[38;5;241m=\u001b[39m {\n\u001b[1;32m    562\u001b[0m     \u001b[38;5;124m\"\u001b[39m\u001b[38;5;124mdraws\u001b[39m\u001b[38;5;124m\"\u001b[39m: draws,\n\u001b[1;32m    563\u001b[0m     \u001b[38;5;124m\"\u001b[39m\u001b[38;5;124mstep\u001b[39m\u001b[38;5;124m\"\u001b[39m: step,\n\u001b[0;32m   (...)\u001b[0m\n\u001b[1;32m    573\u001b[0m     \u001b[38;5;124m\"\u001b[39m\u001b[38;5;124mdiscard_tuned_samples\u001b[39m\u001b[38;5;124m\"\u001b[39m: discard_tuned_samples,\n\u001b[1;32m    574\u001b[0m }\n",
      "File \u001b[0;32m~/mambaforge/envs/pymc_env/lib/python3.10/site-packages/pymc/model.py:1725\u001b[0m, in \u001b[0;36mModel.check_start_vals\u001b[0;34m(self, start)\u001b[0m\n\u001b[1;32m   1722\u001b[0m initial_eval \u001b[38;5;241m=\u001b[39m \u001b[38;5;28mself\u001b[39m\u001b[38;5;241m.\u001b[39mpoint_logps(point\u001b[38;5;241m=\u001b[39melem)\n\u001b[1;32m   1724\u001b[0m \u001b[38;5;28;01mif\u001b[39;00m \u001b[38;5;129;01mnot\u001b[39;00m \u001b[38;5;28mall\u001b[39m(np\u001b[38;5;241m.\u001b[39misfinite(v) \u001b[38;5;28;01mfor\u001b[39;00m v \u001b[38;5;129;01min\u001b[39;00m initial_eval\u001b[38;5;241m.\u001b[39mvalues()):\n\u001b[0;32m-> 1725\u001b[0m     \u001b[38;5;28;01mraise\u001b[39;00m SamplingError(\n\u001b[1;32m   1726\u001b[0m         \u001b[38;5;124m\"\u001b[39m\u001b[38;5;124mInitial evaluation of model at starting point failed!\u001b[39m\u001b[38;5;130;01m\\n\u001b[39;00m\u001b[38;5;124m\"\u001b[39m\n\u001b[1;32m   1727\u001b[0m         \u001b[38;5;124mf\u001b[39m\u001b[38;5;124m\"\u001b[39m\u001b[38;5;124mStarting values:\u001b[39m\u001b[38;5;130;01m\\n\u001b[39;00m\u001b[38;5;132;01m{\u001b[39;00melem\u001b[38;5;132;01m}\u001b[39;00m\u001b[38;5;130;01m\\n\u001b[39;00m\u001b[38;5;130;01m\\n\u001b[39;00m\u001b[38;5;124m\"\u001b[39m\n\u001b[1;32m   1728\u001b[0m         \u001b[38;5;124mf\u001b[39m\u001b[38;5;124m\"\u001b[39m\u001b[38;5;124mInitial evaluation results:\u001b[39m\u001b[38;5;130;01m\\n\u001b[39;00m\u001b[38;5;132;01m{\u001b[39;00minitial_eval\u001b[38;5;132;01m}\u001b[39;00m\u001b[38;5;124m\"\u001b[39m\n\u001b[1;32m   1729\u001b[0m     )\n",
      "\u001b[0;31mSamplingError\u001b[0m: Initial evaluation of model at starting point failed!\nStarting values:\n{'α_interval__': array(0.23778551), 'σ_log__': array(-0.00467777)}\n\nInitial evaluation results:\n{'α': -1.63, 'σ': -6.92, 'likelihood': -inf}"
     ]
    }
   ],
   "source": [
    "with pm.Model() as m:\n",
    "    α = pm.TruncatedNormal(\"α\", mu=0, sigma=5, lower=0)  # v in BUGS model\n",
    "\n",
    "    σ = pm.Gamma(\"σ\", 0.001, 0.001)\n",
    "    λ = (1 / σ)**α\n",
    "    β = λ ** (-1 / α)\n",
    "    \n",
    "    _t = pm.Weibull.dist(α, β)\n",
    "    pm.Censored(\"likelihood\", _t, lower=None, upper=100, observed=t)\n",
    "    \n",
    "    median = pm.Deterministic(\"median tte\", σ*np.log(2)**(1/α))\n",
    "    \n",
    "    for p in ps:\n",
    "        pm.Deterministic(\n",
    "            f\"p_erupt_{p}\", 1 - pm.math.exp((100 / σ) ** α - ((100 + p) / σ) ** α)\n",
    "        )\n",
    "\n",
    "    trace=pm.sample(3000)"
   ]
  },
  {
   "cell_type": "code",
   "execution_count": null,
   "id": "725cddcf",
   "metadata": {},
   "outputs": [],
   "source": [
    "az.summary(trace)"
   ]
  },
  {
   "cell_type": "code",
   "execution_count": 50,
   "id": "04c14eb6",
   "metadata": {},
   "outputs": [
    {
     "name": "stderr",
     "output_type": "stream",
     "text": [
      "Auto-assigning NUTS sampler...\n",
      "INFO:pymc:Auto-assigning NUTS sampler...\n",
      "Initializing NUTS using jitter+adapt_diag...\n",
      "INFO:pymc:Initializing NUTS using jitter+adapt_diag...\n",
      "Multiprocess sampling (4 chains in 4 jobs)\n",
      "INFO:pymc:Multiprocess sampling (4 chains in 4 jobs)\n",
      "NUTS: [α, σ, impute_censored]\n",
      "INFO:pymc:NUTS: [α, σ, impute_censored]\n"
     ]
    },
    {
     "data": {
      "text/html": [
       "\n",
       "<style>\n",
       "    /* Turns off some styling */\n",
       "    progress {\n",
       "        /* gets rid of default border in Firefox and Opera. */\n",
       "        border: none;\n",
       "        /* Needs to be in here for Safari polyfill so background images work as expected. */\n",
       "        background-size: auto;\n",
       "    }\n",
       "    .progress-bar-interrupted, .progress-bar-interrupted::-webkit-progress-bar {\n",
       "        background: #F44336;\n",
       "    }\n",
       "</style>\n"
      ],
      "text/plain": [
       "<IPython.core.display.HTML object>"
      ]
     },
     "metadata": {},
     "output_type": "display_data"
    },
    {
     "data": {
      "text/html": [
       "\n",
       "    <div>\n",
       "      <progress value='16000' class='' max='16000' style='width:300px; height:20px; vertical-align: middle;'></progress>\n",
       "      100.00% [16000/16000 00:02<00:00 Sampling 4 chains, 27 divergences]\n",
       "    </div>\n",
       "    "
      ],
      "text/plain": [
       "<IPython.core.display.HTML object>"
      ]
     },
     "metadata": {},
     "output_type": "display_data"
    },
    {
     "name": "stderr",
     "output_type": "stream",
     "text": [
      "/Users/aaron/mambaforge/envs/pymc_env/lib/python3.10/site-packages/scipy/stats/_continuous_distns.py:624: RuntimeWarning: overflow encountered in _beta_ppf\n",
      "  return _boost._beta_ppf(q, a, b)\n",
      "/Users/aaron/mambaforge/envs/pymc_env/lib/python3.10/site-packages/scipy/stats/_continuous_distns.py:624: RuntimeWarning: overflow encountered in _beta_ppf\n",
      "  return _boost._beta_ppf(q, a, b)\n",
      "/Users/aaron/mambaforge/envs/pymc_env/lib/python3.10/site-packages/scipy/stats/_continuous_distns.py:624: RuntimeWarning: overflow encountered in _beta_ppf\n",
      "  return _boost._beta_ppf(q, a, b)\n",
      "/Users/aaron/mambaforge/envs/pymc_env/lib/python3.10/site-packages/scipy/stats/_continuous_distns.py:624: RuntimeWarning: overflow encountered in _beta_ppf\n",
      "  return _boost._beta_ppf(q, a, b)\n",
      "Sampling 4 chains for 1_000 tune and 3_000 draw iterations (4_000 + 12_000 draws total) took 12 seconds.\n",
      "INFO:pymc:Sampling 4 chains for 1_000 tune and 3_000 draw iterations (4_000 + 12_000 draws total) took 12 seconds.\n",
      "There were 5 divergences after tuning. Increase `target_accept` or reparameterize.\n",
      "ERROR:pymc:There were 5 divergences after tuning. Increase `target_accept` or reparameterize.\n",
      "There were 6 divergences after tuning. Increase `target_accept` or reparameterize.\n",
      "ERROR:pymc:There were 6 divergences after tuning. Increase `target_accept` or reparameterize.\n",
      "There were 6 divergences after tuning. Increase `target_accept` or reparameterize.\n",
      "ERROR:pymc:There were 6 divergences after tuning. Increase `target_accept` or reparameterize.\n",
      "There were 10 divergences after tuning. Increase `target_accept` or reparameterize.\n",
      "ERROR:pymc:There were 10 divergences after tuning. Increase `target_accept` or reparameterize.\n"
     ]
    }
   ],
   "source": [
    "with pm.Model() as m:\n",
    "    # α = pm.Uniform(\"α\", 0, 10) # getting divide by 0 errors\n",
    "    α = pm.TruncatedNormal(\"α\", mu=0, sigma=5, lower=0)  # v in BUGS model\n",
    "\n",
    "    σ = pm.Gamma(\"σ\", 0.001, 0.001)\n",
    "    λ = (1 / σ) ** α\n",
    "    β = λ ** (-1 / α)\n",
    "\n",
    "    impute_censored = pm.Bound(\"impute_censored\", pm.Weibull.dist(α, β), lower=100)\n",
    "\n",
    "    pm.Weibull(\"likelihood\", α, β, observed=t_uncens)\n",
    "\n",
    "    median = pm.Deterministic(\"median tte\", σ * np.log(2) ** (1 / α))\n",
    "\n",
    "    for p in ps:\n",
    "        pm.Deterministic(\n",
    "            f\"p_erupt_{p}\", 1 - pm.math.exp((100 / σ) ** α - ((100 + p) / σ) ** α)\n",
    "        )\n",
    "\n",
    "    trace = pm.sample(3000)"
   ]
  },
  {
   "cell_type": "code",
   "execution_count": 51,
   "id": "b613ac4a",
   "metadata": {},
   "outputs": [
    {
     "data": {
      "text/html": [
       "<div>\n",
       "<style scoped>\n",
       "    .dataframe tbody tr th:only-of-type {\n",
       "        vertical-align: middle;\n",
       "    }\n",
       "\n",
       "    .dataframe tbody tr th {\n",
       "        vertical-align: top;\n",
       "    }\n",
       "\n",
       "    .dataframe thead th {\n",
       "        text-align: right;\n",
       "    }\n",
       "</style>\n",
       "<table border=\"1\" class=\"dataframe\">\n",
       "  <thead>\n",
       "    <tr style=\"text-align: right;\">\n",
       "      <th></th>\n",
       "      <th>mean</th>\n",
       "      <th>sd</th>\n",
       "      <th>hdi_3%</th>\n",
       "      <th>hdi_97%</th>\n",
       "      <th>mcse_mean</th>\n",
       "      <th>mcse_sd</th>\n",
       "      <th>ess_bulk</th>\n",
       "      <th>ess_tail</th>\n",
       "      <th>r_hat</th>\n",
       "    </tr>\n",
       "  </thead>\n",
       "  <tbody>\n",
       "    <tr>\n",
       "      <th>α</th>\n",
       "      <td>2.008</td>\n",
       "      <td>0.390</td>\n",
       "      <td>1.292</td>\n",
       "      <td>2.733</td>\n",
       "      <td>0.005</td>\n",
       "      <td>0.004</td>\n",
       "      <td>4993.0</td>\n",
       "      <td>5855.0</td>\n",
       "      <td>1.0</td>\n",
       "    </tr>\n",
       "    <tr>\n",
       "      <th>σ</th>\n",
       "      <td>54.745</td>\n",
       "      <td>7.380</td>\n",
       "      <td>41.450</td>\n",
       "      <td>69.068</td>\n",
       "      <td>0.096</td>\n",
       "      <td>0.069</td>\n",
       "      <td>6058.0</td>\n",
       "      <td>6198.0</td>\n",
       "      <td>1.0</td>\n",
       "    </tr>\n",
       "    <tr>\n",
       "      <th>impute_censored</th>\n",
       "      <td>115.224</td>\n",
       "      <td>16.981</td>\n",
       "      <td>100.001</td>\n",
       "      <td>144.204</td>\n",
       "      <td>0.209</td>\n",
       "      <td>0.148</td>\n",
       "      <td>5127.0</td>\n",
       "      <td>3548.0</td>\n",
       "      <td>1.0</td>\n",
       "    </tr>\n",
       "    <tr>\n",
       "      <th>median tte</th>\n",
       "      <td>45.353</td>\n",
       "      <td>6.532</td>\n",
       "      <td>32.953</td>\n",
       "      <td>57.591</td>\n",
       "      <td>0.085</td>\n",
       "      <td>0.060</td>\n",
       "      <td>5908.0</td>\n",
       "      <td>6300.0</td>\n",
       "      <td>1.0</td>\n",
       "    </tr>\n",
       "    <tr>\n",
       "      <th>p_erupt_1</th>\n",
       "      <td>0.071</td>\n",
       "      <td>0.031</td>\n",
       "      <td>0.019</td>\n",
       "      <td>0.127</td>\n",
       "      <td>0.000</td>\n",
       "      <td>0.000</td>\n",
       "      <td>5328.0</td>\n",
       "      <td>4749.0</td>\n",
       "      <td>1.0</td>\n",
       "    </tr>\n",
       "    <tr>\n",
       "      <th>p_erupt_5</th>\n",
       "      <td>0.306</td>\n",
       "      <td>0.113</td>\n",
       "      <td>0.109</td>\n",
       "      <td>0.518</td>\n",
       "      <td>0.001</td>\n",
       "      <td>0.001</td>\n",
       "      <td>5314.0</td>\n",
       "      <td>4776.0</td>\n",
       "      <td>1.0</td>\n",
       "    </tr>\n",
       "    <tr>\n",
       "      <th>p_erupt_10</th>\n",
       "      <td>0.513</td>\n",
       "      <td>0.154</td>\n",
       "      <td>0.244</td>\n",
       "      <td>0.808</td>\n",
       "      <td>0.002</td>\n",
       "      <td>0.001</td>\n",
       "      <td>5299.0</td>\n",
       "      <td>4775.0</td>\n",
       "      <td>1.0</td>\n",
       "    </tr>\n",
       "    <tr>\n",
       "      <th>p_erupt_50</th>\n",
       "      <td>0.958</td>\n",
       "      <td>0.065</td>\n",
       "      <td>0.830</td>\n",
       "      <td>1.000</td>\n",
       "      <td>0.001</td>\n",
       "      <td>0.001</td>\n",
       "      <td>5203.0</td>\n",
       "      <td>5066.0</td>\n",
       "      <td>1.0</td>\n",
       "    </tr>\n",
       "  </tbody>\n",
       "</table>\n",
       "</div>"
      ],
      "text/plain": [
       "                    mean      sd   hdi_3%  hdi_97%  mcse_mean  mcse_sd  \\\n",
       "α                  2.008   0.390    1.292    2.733      0.005    0.004   \n",
       "σ                 54.745   7.380   41.450   69.068      0.096    0.069   \n",
       "impute_censored  115.224  16.981  100.001  144.204      0.209    0.148   \n",
       "median tte        45.353   6.532   32.953   57.591      0.085    0.060   \n",
       "p_erupt_1          0.071   0.031    0.019    0.127      0.000    0.000   \n",
       "p_erupt_5          0.306   0.113    0.109    0.518      0.001    0.001   \n",
       "p_erupt_10         0.513   0.154    0.244    0.808      0.002    0.001   \n",
       "p_erupt_50         0.958   0.065    0.830    1.000      0.001    0.001   \n",
       "\n",
       "                 ess_bulk  ess_tail  r_hat  \n",
       "α                  4993.0    5855.0    1.0  \n",
       "σ                  6058.0    6198.0    1.0  \n",
       "impute_censored    5127.0    3548.0    1.0  \n",
       "median tte         5908.0    6300.0    1.0  \n",
       "p_erupt_1          5328.0    4749.0    1.0  \n",
       "p_erupt_5          5314.0    4776.0    1.0  \n",
       "p_erupt_10         5299.0    4775.0    1.0  \n",
       "p_erupt_50         5203.0    5066.0    1.0  "
      ]
     },
     "execution_count": 51,
     "metadata": {},
     "output_type": "execute_result"
    }
   ],
   "source": [
    "az.summary(trace)"
   ]
  },
  {
   "cell_type": "code",
   "execution_count": null,
   "id": "abe009aa",
   "metadata": {},
   "outputs": [],
   "source": []
  }
 ],
 "metadata": {
  "kernelspec": {
   "display_name": "Python 3 (ipykernel)",
   "language": "python",
   "name": "python3"
  },
  "language_info": {
   "codemirror_mode": {
    "name": "ipython",
    "version": 3
   },
   "file_extension": ".py",
   "mimetype": "text/x-python",
   "name": "python",
   "nbconvert_exporter": "python",
   "pygments_lexer": "ipython3",
   "version": "3.10.4"
  }
 },
 "nbformat": 4,
 "nbformat_minor": 5
}
