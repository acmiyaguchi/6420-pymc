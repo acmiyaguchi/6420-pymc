{
 "cells": [
  {
   "cell_type": "code",
   "execution_count": 1,
   "id": "b880457d-f3c1-41c4-8a8e-789b7808b171",
   "metadata": {
    "collapsed": true,
    "jupyter": {
     "outputs_hidden": true
    },
    "tags": []
   },
   "outputs": [
    {
     "name": "stdout",
     "output_type": "stream",
     "text": [
      "Requirement already satisfied: pgmpy in /Users/aaron/mambaforge/envs/pymc3_test/lib/python3.9/site-packages (0.1.17)\r\n",
      "Requirement already satisfied: scikit-learn in /Users/aaron/mambaforge/envs/pymc3_test/lib/python3.9/site-packages (from pgmpy) (1.0.2)\r\n",
      "Requirement already satisfied: statsmodels in /Users/aaron/mambaforge/envs/pymc3_test/lib/python3.9/site-packages (from pgmpy) (0.13.1)\r\n",
      "Requirement already satisfied: numpy in /Users/aaron/mambaforge/envs/pymc3_test/lib/python3.9/site-packages (from pgmpy) (1.22.0)\r\n",
      "Requirement already satisfied: networkx in /Users/aaron/mambaforge/envs/pymc3_test/lib/python3.9/site-packages (from pgmpy) (2.6.3)\r\n"
     ]
    },
    {
     "name": "stdout",
     "output_type": "stream",
     "text": [
      "Requirement already satisfied: pandas in /Users/aaron/mambaforge/envs/pymc3_test/lib/python3.9/site-packages (from pgmpy) (1.3.5)\r\n",
      "Requirement already satisfied: pyparsing in /Users/aaron/mambaforge/envs/pymc3_test/lib/python3.9/site-packages (from pgmpy) (3.0.6)\r\n",
      "Requirement already satisfied: joblib in /Users/aaron/mambaforge/envs/pymc3_test/lib/python3.9/site-packages (from pgmpy) (1.1.0)\r\n",
      "Requirement already satisfied: torch in /Users/aaron/mambaforge/envs/pymc3_test/lib/python3.9/site-packages (from pgmpy) (1.10.1)\r\n",
      "Requirement already satisfied: tqdm in /Users/aaron/mambaforge/envs/pymc3_test/lib/python3.9/site-packages (from pgmpy) (4.62.3)\r\n",
      "Requirement already satisfied: scipy in /Users/aaron/mambaforge/envs/pymc3_test/lib/python3.9/site-packages (from pgmpy) (1.7.3)\r\n",
      "Requirement already satisfied: python-dateutil>=2.7.3 in /Users/aaron/mambaforge/envs/pymc3_test/lib/python3.9/site-packages (from pandas->pgmpy) (2.8.2)\r\n",
      "Requirement already satisfied: pytz>=2017.3 in /Users/aaron/mambaforge/envs/pymc3_test/lib/python3.9/site-packages (from pandas->pgmpy) (2021.3)\r\n",
      "Requirement already satisfied: threadpoolctl>=2.0.0 in /Users/aaron/mambaforge/envs/pymc3_test/lib/python3.9/site-packages (from scikit-learn->pgmpy) (3.0.0)\r\n",
      "Requirement already satisfied: patsy>=0.5.2 in /Users/aaron/mambaforge/envs/pymc3_test/lib/python3.9/site-packages (from statsmodels->pgmpy) (0.5.2)\r\n",
      "Requirement already satisfied: typing-extensions in /Users/aaron/mambaforge/envs/pymc3_test/lib/python3.9/site-packages (from torch->pgmpy) (4.0.1)\r\n",
      "Requirement already satisfied: six in /Users/aaron/mambaforge/envs/pymc3_test/lib/python3.9/site-packages (from patsy>=0.5.2->statsmodels->pgmpy) (1.16.0)\r\n"
     ]
    },
    {
     "name": "stdout",
     "output_type": "stream",
     "text": [
      "Note: you may need to restart the kernel to use updated packages.\n"
     ]
    }
   ],
   "source": [
    "{\n",
    "    \"tags\": [\n",
    "        \"skip-execution\",\n",
    "    ]\n",
    "}\n",
    "\n",
    "# for colab\n",
    "%pip install pgmpy"
   ]
  },
  {
   "cell_type": "code",
   "execution_count": 2,
   "id": "dde85d70-e6bd-43f8-971c-91477e276baa",
   "metadata": {},
   "outputs": [],
   "source": [
    "from pgmpy.models import BayesianNetwork\n",
    "from pgmpy.factors.discrete import TabularCPD\n",
    "from pgmpy.inference import CausalInference\n",
    "\n",
    "import networkx as nx\n",
    "import matplotlib.pyplot as plt"
   ]
  },
  {
   "cell_type": "markdown",
   "id": "c76d9338-385e-4942-a970-955d65e112d9",
   "metadata": {},
   "source": [
    "# Alarm\n",
    "From [Codes for Unit 3](https://www2.isye.gatech.edu/isye6420/supporting.html).\n",
    "\n",
    "Associated lecture videos: Unit 3 [Lesson 7](https://www.youtube.com/watch?v=IbHOo6ifJYE&list=PLv0FeK5oXK4l-RdT6DWJj0_upJOG2WKNO&index=16) and [Lesson 8](https://www.youtube.com/watch?v=iVFycPG26OQ&list=PLv0FeK5oXK4l-RdT6DWJj0_upJOG2WKNO&index=17).\n",
    "\n",
    "Your house has an alarm system against burglary. The house is located in the seismically active area and the alarm system can get occasionally set off by an earthquake. You have two neighbors, Mary and John, who do not know each other. If they hear the alarm they call you, but this is not guaranteed. They also call you from time to time just to chat. The BUGS code provides an approximate solution for conditional  distributions of nodes given the evidence.\n",
    "\n",
    "1. Find the probability John calls given an earthquake.\n",
    "\n",
    "2. Find the probability that there was an earthquake given John has called.\n",
    "\n",
    "3. Find the probability of an earthquake given John has not called and Mary has called.\n",
    "\n",
    "Practice: Find the probability that there was a burglary given an alarm has gone off and Mary has not called.\n",
    "\n",
    "Based on the example at https://pgmpy.org/examples/Earthquake.html, which is almost the exact same problem."
   ]
  },
  {
   "cell_type": "code",
   "execution_count": 3,
   "id": "c40e0fb7-96f8-4686-bfb5-cf21248be8fa",
   "metadata": {},
   "outputs": [
    {
     "name": "stdout",
     "output_type": "stream",
     "text": [
      "Nodes: ['Burglary', 'Alarm', 'Earthquake', 'JohnCalls', 'MaryCalls']\n",
      "Edges: [('Burglary', 'Alarm'), ('Alarm', 'JohnCalls'), ('Alarm', 'MaryCalls'), ('Earthquake', 'Alarm')]\n"
     ]
    }
   ],
   "source": [
    "#Defining network structure\n",
    "alarm_model = BayesianNetwork([('Burglary', 'Alarm'),\n",
    "                              ('Earthquake', 'Alarm'),\n",
    "                              ('Alarm', 'JohnCalls'),\n",
    "                              ('Alarm', 'MaryCalls')])\n",
    "\n",
    "#Defining the parameters\n",
    "cpd_burglary = TabularCPD(variable='Burglary', \n",
    "                          variable_card=2,\n",
    "                          values=[[.999], [0.001]])\n",
    "\n",
    "cpd_earthquake = TabularCPD(variable='Earthquake', \n",
    "                            variable_card=2,\n",
    "                            values=[[0.998], [0.002]])\n",
    "\n",
    "cpd_alarm = TabularCPD(variable='Alarm', variable_card=2,\n",
    "                       values=[[0.999, 0.71, 0.06, 0.05],\n",
    "                               [0.001, 0.29, 0.94, 0.95]],\n",
    "                       evidence=['Burglary', 'Earthquake'],\n",
    "                       evidence_card=[2, 2])\n",
    "\n",
    "cpd_marycalls = TabularCPD(variable='MaryCalls', variable_card=2,\n",
    "                           values=[[0.99, 0.30 ], \n",
    "                                   [0.01, 0.70]],\n",
    "                           evidence=['Alarm'],\n",
    "                           evidence_card=[2])\n",
    "\n",
    "cpd_johncalls = TabularCPD(variable='JohnCalls', variable_card=2,\n",
    "                           values=[[0.95, 0.1],\n",
    "                                   [0.05, 0.9]],\n",
    "                           evidence=['Alarm'],\n",
    "                           evidence_card=[2])\n",
    "\n",
    "# Associating the parameters with the model structure\n",
    "alarm_model.add_cpds(cpd_burglary, cpd_earthquake, cpd_alarm, cpd_johncalls, \n",
    "                     cpd_marycalls)\n",
    "\n",
    "assert alarm_model.check_model(), \"Your model doesn't make sense to pgmpy.\"\n",
    "\n",
    "print(f\"Nodes: {alarm_model.nodes()}\")\n",
    "print(f\"Edges: {alarm_model.edges()}\")"
   ]
  },
  {
   "cell_type": "code",
   "execution_count": 4,
   "id": "c9048752-dfc4-4bb0-ac15-9e1d366a8394",
   "metadata": {},
   "outputs": [
    {
     "data": {
      "image/png": "[encoded data removed]",
      "text/plain": [
       "<Figure size 432x288 with 1 Axes>"
      ]
     },
     "metadata": {
      "filenames": {
       "image/png": "/Users/aaron/bayes/6420-redo/_build/jupyter_execute/Unit3-Alarm_4_0.png"
      }
     },
     "output_type": "display_data"
    }
   ],
   "source": [
    "# plot the network\n",
    "\n",
    "options = {\n",
    "    'arrowsize': 40,\n",
    "    'font_size': 8,\n",
    "    'font_weight': 'bold',\n",
    "    'node_size': 4000,\n",
    "    'node_color': 'white',\n",
    "    'edgecolors': 'black',\n",
    "    'linewidths': 2,\n",
    "    'width': 5,\n",
    "    'alpha': .9\n",
    "}\n",
    "\n",
    "nx.draw(alarm_model, with_labels=True, **options)\n",
    "\n",
    "# Set margins for the axes so that nodes aren't clipped\n",
    "ax = plt.gca()\n",
    "ax.margins(0.20)\n",
    "plt.axis('off')\n",
    "plt.show()\n"
   ]
  },
  {
   "cell_type": "code",
   "execution_count": 5,
   "id": "46b1429b-a190-4fd7-98cb-43e61fcac9e5",
   "metadata": {},
   "outputs": [
    {
     "name": "stdout",
     "output_type": "stream",
     "text": [
      "P(J|E):\n",
      "+--------------+------------------+\n",
      "| JohnCalls    |   phi(JohnCalls) |\n",
      "+==============+==================+\n",
      "| JohnCalls(0) |           0.7029 |\n",
      "+--------------+------------------+\n",
      "| JohnCalls(1) |           0.2971 |\n",
      "+--------------+------------------+\n",
      "P(E|J):\n",
      "+---------------+-------------------+\n",
      "| Earthquake    |   phi(Earthquake) |\n",
      "+===============+===================+\n",
      "| Earthquake(0) |            0.9886 |\n",
      "+---------------+-------------------+\n",
      "| Earthquake(1) |            0.0114 |\n",
      "+---------------+-------------------+\n",
      "P(E|J^c, M):\n",
      "+---------------+-------------------+\n",
      "| Earthquake    |   phi(Earthquake) |\n",
      "+===============+===================+\n",
      "| Earthquake(0) |            0.9944 |\n",
      "+---------------+-------------------+\n",
      "| Earthquake(1) |            0.0056 |\n",
      "+---------------+-------------------+\n",
      "P(B|A, M^c):\n",
      "+-------------+-----------------+\n",
      "| Burglary    |   phi(Burglary) |\n",
      "+=============+=================+\n",
      "| Burglary(0) |          0.6264 |\n",
      "+-------------+-----------------+\n",
      "| Burglary(1) |          0.3736 |\n",
      "+-------------+-----------------+\n"
     ]
    }
   ],
   "source": [
    "alarm_infer = CausalInference(alarm_model)\n",
    "\n",
    "# probability John calls given an earthquake.\n",
    "q = alarm_infer.query(variables=['JohnCalls'], \n",
    "                      evidence={'Earthquake': True})\n",
    "print(\"P(J|E):\")\n",
    "print(q)\n",
    "\n",
    "# probability that there was an earthquake given John has called.\n",
    "q = alarm_infer.query(variables=['Earthquake'], evidence={'JohnCalls': True})\n",
    "print(\"P(E|J):\")\n",
    "print(q)\n",
    "\n",
    "# probability of an earthquake given John has not called and Mary has called.\n",
    "q = alarm_infer.query(variables=['Earthquake'], \n",
    "                      evidence={'JohnCalls': False, 'MaryCalls': True})\n",
    "print(\"P(E|J^c, M):\")\n",
    "print(q)\n",
    " \n",
    "# probability of a burglary given an alarm and that Mary has not called.\n",
    "q = alarm_infer.query(variables=['Burglary'], \n",
    "                      evidence={'Alarm': True, 'MaryCalls': False})\n",
    "print(\"P(B|A, M^c):\")\n",
    "print(q)"
   ]
  }
 ],
 "metadata": {
  "kernelspec": {
   "display_name": "Python 3 (ipykernel)",
   "language": "python",
   "name": "python3"
  },
  "language_info": {
   "codemirror_mode": {
    "name": "ipython",
    "version": 3
   },
   "file_extension": ".py",
   "mimetype": "text/x-python",
   "name": "python",
   "nbconvert_exporter": "python",
   "pygments_lexer": "ipython3",
   "version": "3.9.9"
  }
 },
 "nbformat": 4,
 "nbformat_minor": 5
}