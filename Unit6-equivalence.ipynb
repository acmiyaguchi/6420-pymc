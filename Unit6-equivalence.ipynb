{
 "cells": [
  {
   "cell_type": "code",
   "execution_count": 1,
   "id": "c5f0573a-56cf-4966-ab40-c16645ddad6c",
   "metadata": {
    "tags": [
     "hide_output"
    ]
   },
   "outputs": [],
   "source": [
    "import arviz as az\n",
    "import matplotlib.pyplot as plt\n",
    "import numpy as np\n",
    "import pymc as pm\n",
    "from pymc.math import eq, switch"
   ]
  },
  {
   "cell_type": "markdown",
   "id": "e21fc4d3-6d30-4628-af3e-07b88a2fe0d0",
   "metadata": {},
   "source": [
    "```{note}\n",
    "This is using PyMC 4.0 beta 4! Syntax should be backwards-compatible except for the imports.\n",
    "```"
   ]
  },
  {
   "cell_type": "markdown",
   "id": "5ca8c098-3faf-44da-bd24-9d3d9705bc18",
   "metadata": {},
   "source": [
    "# Equivalence of Generic and Brand-Name Drugs \n",
    "\n",
    "\n",
    "Adapted from [Codes for Unit 6: equivalence.odc](https://www2.isye.gatech.edu/isye6420/supporting.html).\n",
    "\n",
    "Associated lecture video: [Unit 6 Lesson 7](https://www.youtube.com/watch?v=aF1whV0brtw&list=PLv0FeK5oXK4l-RdT6DWJj0_upJOG2WKNO&index=58).\n",
    "\n",
    "The manufacturer wishes to demonstrate that their generic drug for a particular metabolic disorder is equivalent to a brand name drug. One of indication of the disorder is an abnormally low concentration of levocarnitine, an amino acid derivative, in the plasma. The treatment with the brand name drug substantially increases this concentration.\n",
    "\n",
    "A small clinical trial is conducted with 43 patients, 18 in the Brand Name Drug arm and 25 in the Generic Drug arm. The increases in the log-concentration of levocarnitine are in the data below.\n",
    "\n",
    "The FDA declares that bioequivalence among the two drugs can be established if the difference in response to the two drugs is within 2 units of log-concentration. Assuming that the log-concentration measurements follow normal distributions with equal population variance, can these two drugs be declared bioequivalent within a tolerance +/-2  units?\n"
   ]
  },
  {
   "cell_type": "markdown",
   "id": "e31ed503-63a8-4ef7-9105-4e63aab5a4a2",
   "metadata": {},
   "source": [
    "---\n",
    "The way the data is set up in the .odc file is strange. It seems simpler to just have a separate list for each increase type."
   ]
  },
  {
   "cell_type": "code",
   "execution_count": 2,
   "id": "d5ab3f36-bf4e-4f5b-ac8f-31d64185203c",
   "metadata": {},
   "outputs": [],
   "source": [
    "# fmt: off\n",
    "increase_type1 = [7, 8, 4, 6, 10, 10, 5, 7, 9, 8, 6, 7, 8, 4, 6, 10, 8, 9]\n",
    "increase_type2 = [6, 7, 5, 9, 5, 5, 3, 7, 5, 10, 8, 5, 8, 4, 4, 8, 6, 11, \n",
    "                  7, 5, 5, 5, 7, 4, 6]\n",
    "# fmt: on"
   ]
  },
  {
   "cell_type": "markdown",
   "id": "91128270-fb32-4073-b66e-8de098497bd6",
   "metadata": {},
   "source": [
    "We're using ```pm.math.switch``` and ```pm.math.eq``` to recreate the BUGS ```step()``` function for the ```probint``` variable.\n",
    "\n",
    "See [Unit 6: Stress, Diet and Plasma Acids](https://areding.github.io/6420-pymc/Unit6-stressacids.html) to find out more about converting the BUGS step function."
   ]
  },
  {
   "cell_type": "code",
   "execution_count": null,
   "id": "2f2cd56c-3973-47bb-b3b4-3bdcc50d91c8",
   "metadata": {
    "tags": [
     "hide_output"
    ]
   },
   "outputs": [
    {
     "name": "stderr",
     "output_type": "stream",
     "text": [
      "Multiprocess sampling (4 chains in 4 jobs)\n",
      "NUTS: [mu1, mu2, prec]\n"
     ]
    },
    {
     "data": {
      "text/html": [
       "\n",
       "<style>\n",
       "    /* Turns off some styling */\n",
       "    progress {\n",
       "        /* gets rid of default border in Firefox and Opera. */\n",
       "        border: none;\n",
       "        /* Needs to be in here for Safari polyfill so background images work as expected. */\n",
       "        background-size: auto;\n",
       "    }\n",
       "    .progress-bar-interrupted, .progress-bar-interrupted::-webkit-progress-bar {\n",
       "        background: #F44336;\n",
       "    }\n",
       "</style>\n"
      ],
      "text/plain": [
       "<IPython.core.display.HTML object>"
      ]
     },
     "metadata": {},
     "output_type": "display_data"
    },
    {
     "data": {
      "text/html": [
       "\n",
       "    <div>\n",
       "      <progress value='42000' class='' max='42000' style='width:300px; height:20px; vertical-align: middle;'></progress>\n",
       "      100.00% [42000/42000 00:04<00:00 Sampling 4 chains, 0 divergences]\n",
       "    </div>\n",
       "    "
      ],
      "text/plain": [
       "<IPython.core.display.HTML object>"
      ]
     },
     "metadata": {},
     "output_type": "display_data"
    },
    {
     "name": "stderr",
     "output_type": "stream",
     "text": [
      "/Users/aaron/mambaforge/envs/pymc-dev-py39/lib/python3.9/site-packages/scipy/stats/_continuous_distns.py:624: RuntimeWarning: overflow encountered in _beta_ppf\n",
      "  return _boost._beta_ppf(q, a, b)\n",
      "/Users/aaron/mambaforge/envs/pymc-dev-py39/lib/python3.9/site-packages/scipy/stats/_continuous_distns.py:624: RuntimeWarning: overflow encountered in _beta_ppf\n",
      "  return _boost._beta_ppf(q, a, b)\n",
      "/Users/aaron/mambaforge/envs/pymc-dev-py39/lib/python3.9/site-packages/scipy/stats/_continuous_distns.py:624: RuntimeWarning: overflow encountered in _beta_ppf\n",
      "  return _boost._beta_ppf(q, a, b)\n",
      "/Users/aaron/mambaforge/envs/pymc-dev-py39/lib/python3.9/site-packages/scipy/stats/_continuous_distns.py:624: RuntimeWarning: overflow encountered in _beta_ppf\n",
      "  return _boost._beta_ppf(q, a, b)\n",
      "Sampling 4 chains for 500 tune and 10_000 draw iterations (2_000 + 40_000 draws total) took 14 seconds.\n"
     ]
    }
   ],
   "source": [
    "with pm.Model() as m:\n",
    "    # priors\n",
    "    mu1 = pm.Normal(\"mu1\", mu=10, sigma=316)\n",
    "    mu2 = pm.Normal(\"mu2\", mu=10, sigma=316)\n",
    "    mudiff = pm.Deterministic(\"mudiff\", mu1 - mu2)\n",
    "    prec = pm.Gamma(\"prec\", alpha=0.001, beta=0.001)\n",
    "    sigma = 1 / pm.math.sqrt(prec)\n",
    "\n",
    "    probint = pm.Deterministic(\n",
    "        \"probint\",\n",
    "        switch(mudiff + 2 >= 0, 1, 0) * switch(eq(2 - mudiff, 0), 1, 0),\n",
    "    )\n",
    "\n",
    "    y_type1 = pm.Normal(\"y_type1\", mu=mu1, sd=sigma, observed=increase_type1)\n",
    "    y_type2 = pm.Normal(\"y_type2\", mu=mu2, sd=sigma, observed=increase_type2)\n",
    "\n",
    "    # start sampling\n",
    "    trace = pm.sample(\n",
    "        10000,\n",
    "        chains=4,\n",
    "        tune=500,\n",
    "        init=\"jitter+adapt_diag\",\n",
    "        random_seed=1,\n",
    "        return_inferencedata=True,\n",
    "    )"
   ]
  },
  {
   "cell_type": "code",
   "execution_count": null,
   "id": "55d03c79-adcd-41ce-88f6-c36b95289e03",
   "metadata": {},
   "outputs": [],
   "source": [
    "az.summary(trace, hdi_prob=0.95)"
   ]
  },
  {
   "cell_type": "markdown",
   "id": "dcaaa265-9a04-4a3b-a0bc-a05337efa5ea",
   "metadata": {},
   "source": [
    "BUGS results:\n",
    "\n",
    "|          | mean   | sd      | MC_error | val2.5pc | median | val97.5pc | start | sample |\n",
    "|----------|--------|---------|----------|----------|--------|-----------|-------|--------|\n",
    "| mu[1]    | 7.332  | 0.473   | 0.001469 | 6.399    | 7.332  | 8.264     | 1001  | 100000 |\n",
    "| mu[2]    | 6.198  | 0.4006  | 0.001213 | 5.406    | 6.199  | 6.985     | 1001  | 100000 |\n",
    "| mudiff   | 1.133  | 0.618   | 0.00196  | -0.07884 | 1.134  | 2.354     | 1001  | 100000 |\n",
    "| prec     | 0.2626 | 0.05792 | 1.90E-04 | 0.1617   | 0.2584 | 0.3877    | 1001  | 100000 |\n",
    "| probint  | 0.9209 | 0.2699  | 9.07E-04 | 0        | 1      | 1         | 1001  | 100000 |"
   ]
  },
  {
   "cell_type": "code",
   "execution_count": null,
   "id": "ecd14b13-0685-4ae3-8bbd-394ebddfc418",
   "metadata": {},
   "outputs": [],
   "source": []
  }
 ],
 "metadata": {
  "kernelspec": {
   "display_name": "Python 3 (ipykernel)",
   "language": "python",
   "name": "python3"
  },
  "language_info": {
   "codemirror_mode": {
    "name": "ipython",
    "version": 3
   },
   "file_extension": ".py",
   "mimetype": "text/x-python",
   "name": "python",
   "nbconvert_exporter": "python",
   "pygments_lexer": "ipython3",
   "version": "3.9.10"
  }
 },
 "nbformat": 4,
 "nbformat_minor": 5
}
