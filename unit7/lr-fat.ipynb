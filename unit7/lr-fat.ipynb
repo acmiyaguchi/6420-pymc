{
 "cells": [
  {
   "cell_type": "code",
   "execution_count": 16,
   "id": "868cd752",
   "metadata": {},
   "outputs": [
    {
     "name": "stdout",
     "output_type": "stream",
     "text": [
      "The lab_black extension is already loaded. To reload it, use:\n",
      "  %reload_ext lab_black\n",
      "The watermark extension is already loaded. To reload it, use:\n",
      "  %reload_ext watermark\n"
     ]
    }
   ],
   "source": [
    "import pymc as pm\n",
    "from pymc.math import dot\n",
    "import pandas as pd\n",
    "import numpy as np\n",
    "import arviz as az\n",
    "\n",
    "%load_ext lab_black\n",
    "%load_ext watermark"
   ]
  },
  {
   "cell_type": "markdown",
   "id": "7f35f83e",
   "metadata": {},
   "source": [
    "# Brozek index prediction\n",
    "\n",
    "This example goes over linear regression and Bayesian $R^2$.\n",
    "\n",
    "Adapted from [unit 7: fat2d.odc](https://raw.githubusercontent.com/areding/6420-pymc/main/original_examples/Codes4Unit7/fat2d.odc) and [fatmulti.odc](https://raw.githubusercontent.com/areding/6420-pymc/main/original_examples/Codes4Unit7/fatmulti.odc).\n",
    "\n",
    "The first lecture uses fat1.odc, but that file wasn't provided. You can see the code in the Lesson 11 video, though. It just uses the X8 predictor.\n",
    "\n",
    "Data can be found [here](https://raw.githubusercontent.com/areding/6420-pymc/main/data/fat.tsv).\n",
    "\n",
    "## Associated lecture videos:\n",
    "### Unit 7 Lesson 11"
   ]
  },
  {
   "cell_type": "code",
   "execution_count": 1,
   "id": "d110629f",
   "metadata": {
    "tags": [
     "hide_input"
    ]
   },
   "outputs": [
    {
     "data": {
      "text/html": [
       "<iframe width=\"560\" height=\"315\" src=\"https://www.youtube.com/embed?v=xomK4tcePmc&list=PLv0FeK5oXK4l-RdT6DWJj0_upJOG2WKNO&index=73\" frameborder=\"0\" allow=\"autoplay; encrypted-media\" allowfullscreen></iframe>\n"
      ],
      "text/plain": [
       "<IPython.core.display.HTML object>"
      ]
     },
     "metadata": {},
     "output_type": "display_data"
    }
   ],
   "source": [
    "%%html\n",
    "<iframe width=\"560\" height=\"315\" src=\"https://www.youtube.com/embed?v=xomK4tcePmc&list=PLv0FeK5oXK4l-RdT6DWJj0_upJOG2WKNO&index=73\" frameborder=\"0\" allow=\"autoplay; encrypted-media\" allowfullscreen></iframe>"
   ]
  },
  {
   "cell_type": "markdown",
   "id": "e5bf82e0",
   "metadata": {},
   "source": [
    "### Unit 7 Lesson 13"
   ]
  },
  {
   "cell_type": "code",
   "execution_count": 2,
   "id": "26e4872c",
   "metadata": {
    "tags": [
     "hide_input"
    ]
   },
   "outputs": [
    {
     "data": {
      "text/html": [
       "<iframe width=\"560\" height=\"315\" src=\"https://www.youtube.com/embed?v=xomK4tcePmc&list=PLv0FeK5oXK4l-RdT6DWJj0_upJOG2WKNO&index=75\" frameborder=\"0\" allow=\"autoplay; encrypted-media\" allowfullscreen></iframe>\n"
      ],
      "text/plain": [
       "<IPython.core.display.HTML object>"
      ]
     },
     "metadata": {},
     "output_type": "display_data"
    }
   ],
   "source": [
    "%%html\n",
    "<iframe width=\"560\" height=\"315\" src=\"https://www.youtube.com/embed?v=xomK4tcePmc&list=PLv0FeK5oXK4l-RdT6DWJj0_upJOG2WKNO&index=75\" frameborder=\"0\" allow=\"autoplay; encrypted-media\" allowfullscreen></iframe>"
   ]
  },
  {
   "cell_type": "markdown",
   "id": "ebc1d58e",
   "metadata": {
    "tags": []
   },
   "source": [
    "## Problem statement\n",
    "\n",
    "Percentage of body fat, age, weight, height, and ten body circumference measurements (e.g., abdomen) were recorded for 252 men. Percentage of body fat is estimated through an underwater weighing technique.\n",
    "\n",
    "The data set has 252 observations and 15 variables. Brozek index (Brozek et al., 1963) is obtained by the underwater weighing while other 14 anthropometric variables are obtained using scales and a measuring tape.\n",
    "\n",
    "- y = Brozek index\n",
    "- X1 = 1 (intercept)\n",
    "- X2 = age\n",
    "- X3 = weight\n",
    "- X4 = height\n",
    "- X5 = adipose\n",
    "- X6 = neck  \n",
    "- X7 = chest\n",
    "- X8 = abdomen\n",
    "- X9 = hip\n",
    "- X10 = thigh\n",
    "- X11 = knee   \n",
    "- X12 = ankle\n",
    "- X13 = bicep\n",
    "- X14 = forearm\n",
    "- X15 = wrist\n",
    "\n",
    "These anthropometric variables are less intrusive but also less reliable in assessing the body fat index.\n",
    "\n",
    "Set a linear regression to predict the Brozek index from these body measurements."
   ]
  },
  {
   "cell_type": "markdown",
   "id": "eeabacea",
   "metadata": {},
   "source": [
    "## Single predictor (X8)\n",
    "\n",
    "This is a recreation of fat1.odc."
   ]
  },
  {
   "cell_type": "code",
   "execution_count": 5,
   "id": "addcdfaf",
   "metadata": {},
   "outputs": [],
   "source": [
    "data = pd.read_csv(\"../data/fat.tsv\", sep=\"\\t\")\n",
    "\n",
    "y = data[\"y\"].to_numpy(copy=True)\n",
    "X = data[\"X8\"].to_numpy(copy=True)\n",
    "\n",
    "# p will be the number of predictors + intercept (1 + 1 in this case)\n",
    "n, p = X.shape[0], 2"
   ]
  },
  {
   "cell_type": "code",
   "execution_count": 6,
   "id": "983009db",
   "metadata": {
    "tags": [
     "hide_output"
    ]
   },
   "outputs": [
    {
     "name": "stderr",
     "output_type": "stream",
     "text": [
      "Auto-assigning NUTS sampler...\n",
      "Initializing NUTS using jitter+adapt_diag...\n",
      "/Users/aaron/mambaforge/envs/pymc_env/lib/python3.10/site-packages/pymc/aesaraf.py:996: UserWarning: The parameter 'updates' of aesara.function() expects an OrderedDict, got <class 'dict'>. Using a standard dictionary here results in non-deterministic behavior. You should use an OrderedDict if you are using Python 2.7 (collections.OrderedDict for older python), or use a list of (shared, update) pairs. Do not just convert your dictionary to this type before the call as the conversion will still be non-deterministic.\n",
      "  aesara_function = aesara.function(\n",
      "Multiprocess sampling (4 chains in 4 jobs)\n",
      "NUTS: [tau, beta0_intercept, beta1_abdomen]\n"
     ]
    },
    {
     "data": {
      "text/html": [
       "\n",
       "<style>\n",
       "    /* Turns off some styling */\n",
       "    progress {\n",
       "        /* gets rid of default border in Firefox and Opera. */\n",
       "        border: none;\n",
       "        /* Needs to be in here for Safari polyfill so background images work as expected. */\n",
       "        background-size: auto;\n",
       "    }\n",
       "    .progress-bar-interrupted, .progress-bar-interrupted::-webkit-progress-bar {\n",
       "        background: #F44336;\n",
       "    }\n",
       "</style>\n"
      ],
      "text/plain": [
       "<IPython.core.display.HTML object>"
      ]
     },
     "metadata": {},
     "output_type": "display_data"
    },
    {
     "data": {
      "text/html": [
       "\n",
       "    <div>\n",
       "      <progress value='12000' class='' max='12000' style='width:300px; height:20px; vertical-align: middle;'></progress>\n",
       "      100.00% [12000/12000 00:04<00:00 Sampling 4 chains, 0 divergences]\n",
       "    </div>\n",
       "    "
      ],
      "text/plain": [
       "<IPython.core.display.HTML object>"
      ]
     },
     "metadata": {},
     "output_type": "display_data"
    },
    {
     "name": "stderr",
     "output_type": "stream",
     "text": [
      "/Users/aaron/mambaforge/envs/pymc_env/lib/python3.10/site-packages/scipy/stats/_continuous_distns.py:624: RuntimeWarning: overflow encountered in _beta_ppf\n",
      "  return _boost._beta_ppf(q, a, b)\n",
      "/Users/aaron/mambaforge/envs/pymc_env/lib/python3.10/site-packages/scipy/stats/_continuous_distns.py:624: RuntimeWarning: overflow encountered in _beta_ppf\n",
      "  return _boost._beta_ppf(q, a, b)\n",
      "/Users/aaron/mambaforge/envs/pymc_env/lib/python3.10/site-packages/scipy/stats/_continuous_distns.py:624: RuntimeWarning: overflow encountered in _beta_ppf\n",
      "  return _boost._beta_ppf(q, a, b)\n",
      "/Users/aaron/mambaforge/envs/pymc_env/lib/python3.10/site-packages/scipy/stats/_continuous_distns.py:624: RuntimeWarning: overflow encountered in _beta_ppf\n",
      "  return _boost._beta_ppf(q, a, b)\n",
      "Sampling 4 chains for 1_000 tune and 2_000 draw iterations (4_000 + 8_000 draws total) took 12 seconds.\n",
      "The acceptance probability does not match the target. It is 0.8854, but should be close to 0.8. Try to increase the number of tuning steps.\n"
     ]
    },
    {
     "data": {
      "text/html": [
       "\n",
       "<style>\n",
       "    /* Turns off some styling */\n",
       "    progress {\n",
       "        /* gets rid of default border in Firefox and Opera. */\n",
       "        border: none;\n",
       "        /* Needs to be in here for Safari polyfill so background images work as expected. */\n",
       "        background-size: auto;\n",
       "    }\n",
       "    .progress-bar-interrupted, .progress-bar-interrupted::-webkit-progress-bar {\n",
       "        background: #F44336;\n",
       "    }\n",
       "</style>\n"
      ],
      "text/plain": [
       "<IPython.core.display.HTML object>"
      ]
     },
     "metadata": {},
     "output_type": "display_data"
    },
    {
     "data": {
      "text/html": [
       "\n",
       "    <div>\n",
       "      <progress value='8000' class='' max='8000' style='width:300px; height:20px; vertical-align: middle;'></progress>\n",
       "      100.00% [8000/8000 00:00<00:00]\n",
       "    </div>\n",
       "    "
      ],
      "text/plain": [
       "<IPython.core.display.HTML object>"
      ]
     },
     "metadata": {},
     "output_type": "display_data"
    }
   ],
   "source": [
    "with pm.Model() as m:\n",
    "    tau = pm.Gamma(\"tau\", 0.001, 0.001)\n",
    "    beta0 = pm.Normal(\"beta0_intercept\", 0, tau=0.001)\n",
    "    beta1 = pm.Normal(\"beta1_abdomen\", 0, tau=0.001)\n",
    "    variance = pm.Deterministic(\"variance\", 1 / tau)\n",
    "\n",
    "    mu = beta0 + beta1 * X\n",
    "    likelihood = pm.Normal(\"likelihood\", mu=mu, tau=tau, observed=y)\n",
    "\n",
    "    # Bayesian R2 from fat1.odc\n",
    "    sse = (n - p) * variance\n",
    "    cy = y - y.mean()\n",
    "    sst = dot(cy, cy)\n",
    "    br2 = pm.Deterministic(\"br2\", 1 - sse / sst)\n",
    "\n",
    "    trace = pm.sample(2000)\n",
    "    ppc = pm.sample_posterior_predictive(trace)"
   ]
  },
  {
   "cell_type": "code",
   "execution_count": 7,
   "id": "e72e64ef",
   "metadata": {},
   "outputs": [
    {
     "data": {
      "text/html": [
       "<div>\n",
       "<style scoped>\n",
       "    .dataframe tbody tr th:only-of-type {\n",
       "        vertical-align: middle;\n",
       "    }\n",
       "\n",
       "    .dataframe tbody tr th {\n",
       "        vertical-align: top;\n",
       "    }\n",
       "\n",
       "    .dataframe thead th {\n",
       "        text-align: right;\n",
       "    }\n",
       "</style>\n",
       "<table border=\"1\" class=\"dataframe\">\n",
       "  <thead>\n",
       "    <tr style=\"text-align: right;\">\n",
       "      <th></th>\n",
       "      <th>mean</th>\n",
       "      <th>sd</th>\n",
       "      <th>hdi_2.5%</th>\n",
       "      <th>hdi_97.5%</th>\n",
       "      <th>mcse_mean</th>\n",
       "      <th>mcse_sd</th>\n",
       "      <th>ess_bulk</th>\n",
       "      <th>ess_tail</th>\n",
       "      <th>r_hat</th>\n",
       "    </tr>\n",
       "  </thead>\n",
       "  <tbody>\n",
       "    <tr>\n",
       "      <th>beta0_intercept</th>\n",
       "      <td>-34.999</td>\n",
       "      <td>2.559</td>\n",
       "      <td>-39.751</td>\n",
       "      <td>-29.760</td>\n",
       "      <td>0.049</td>\n",
       "      <td>0.034</td>\n",
       "      <td>2772.0</td>\n",
       "      <td>2685.0</td>\n",
       "      <td>1.0</td>\n",
       "    </tr>\n",
       "    <tr>\n",
       "      <th>beta1_abdomen</th>\n",
       "      <td>0.583</td>\n",
       "      <td>0.027</td>\n",
       "      <td>0.528</td>\n",
       "      <td>0.635</td>\n",
       "      <td>0.001</td>\n",
       "      <td>0.000</td>\n",
       "      <td>2752.0</td>\n",
       "      <td>2680.0</td>\n",
       "      <td>1.0</td>\n",
       "    </tr>\n",
       "    <tr>\n",
       "      <th>tau</th>\n",
       "      <td>0.049</td>\n",
       "      <td>0.004</td>\n",
       "      <td>0.041</td>\n",
       "      <td>0.058</td>\n",
       "      <td>0.000</td>\n",
       "      <td>0.000</td>\n",
       "      <td>3730.0</td>\n",
       "      <td>3367.0</td>\n",
       "      <td>1.0</td>\n",
       "    </tr>\n",
       "    <tr>\n",
       "      <th>variance</th>\n",
       "      <td>20.527</td>\n",
       "      <td>1.829</td>\n",
       "      <td>17.313</td>\n",
       "      <td>24.401</td>\n",
       "      <td>0.030</td>\n",
       "      <td>0.022</td>\n",
       "      <td>3730.0</td>\n",
       "      <td>3367.0</td>\n",
       "      <td>1.0</td>\n",
       "    </tr>\n",
       "    <tr>\n",
       "      <th>br2</th>\n",
       "      <td>0.660</td>\n",
       "      <td>0.030</td>\n",
       "      <td>0.595</td>\n",
       "      <td>0.713</td>\n",
       "      <td>0.001</td>\n",
       "      <td>0.000</td>\n",
       "      <td>3730.0</td>\n",
       "      <td>3367.0</td>\n",
       "      <td>1.0</td>\n",
       "    </tr>\n",
       "  </tbody>\n",
       "</table>\n",
       "</div>"
      ],
      "text/plain": [
       "                   mean     sd  hdi_2.5%  hdi_97.5%  mcse_mean  mcse_sd  \\\n",
       "beta0_intercept -34.999  2.559   -39.751    -29.760      0.049    0.034   \n",
       "beta1_abdomen     0.583  0.027     0.528      0.635      0.001    0.000   \n",
       "tau               0.049  0.004     0.041      0.058      0.000    0.000   \n",
       "variance         20.527  1.829    17.313     24.401      0.030    0.022   \n",
       "br2               0.660  0.030     0.595      0.713      0.001    0.000   \n",
       "\n",
       "                 ess_bulk  ess_tail  r_hat  \n",
       "beta0_intercept    2772.0    2685.0    1.0  \n",
       "beta1_abdomen      2752.0    2680.0    1.0  \n",
       "tau                3730.0    3367.0    1.0  \n",
       "variance           3730.0    3367.0    1.0  \n",
       "br2                3730.0    3367.0    1.0  "
      ]
     },
     "execution_count": 7,
     "metadata": {},
     "output_type": "execute_result"
    }
   ],
   "source": [
    "az.summary(trace, hdi_prob=0.95)"
   ]
  },
  {
   "cell_type": "markdown",
   "id": "73ff4204",
   "metadata": {},
   "source": [
    "This matches the results from the U7 L11 video.\n",
    "\n",
    "Another way to calculate the $R^2$ using a posterior predictive check (keeping in mind that there is no standard \"Bayesian $R^2$\") and the results will be slightly different:"
   ]
  },
  {
   "cell_type": "code",
   "execution_count": 8,
   "id": "e238b86e",
   "metadata": {},
   "outputs": [
    {
     "data": {
      "text/plain": [
       "r2        0.660744\n",
       "r2_std    0.000000\n",
       "dtype: float64"
      ]
     },
     "execution_count": 8,
     "metadata": {},
     "output_type": "execute_result"
    }
   ],
   "source": [
    "# get the mean y_pred across all chains\n",
    "y_pred = np.array(ppc.posterior_predictive.likelihood.mean(axis=(0, 1)))\n",
    "\n",
    "az.r2_score(y, y_pred)"
   ]
  },
  {
   "cell_type": "markdown",
   "id": "186191cb",
   "metadata": {},
   "source": [
    "In this case they agree, but that won't always be true."
   ]
  },
  {
   "cell_type": "markdown",
   "id": "5787bc74",
   "metadata": {
    "tags": []
   },
   "source": [
    "## All predictors\n",
    "\n",
    "Based on fat2d.odc."
   ]
  },
  {
   "cell_type": "code",
   "execution_count": 9,
   "id": "8ba81357",
   "metadata": {},
   "outputs": [],
   "source": [
    "data = pd.read_csv(\"../data/fat.tsv\", sep=\"\\t\")\n",
    "\n",
    "y = data[\"y\"].to_numpy(copy=True)\n",
    "X = data.iloc[:, 1:].to_numpy(copy=True)\n",
    "# add intercept\n",
    "X_aug = np.concatenate((np.ones((X.shape[0], 1)), X), axis=1)\n",
    "\n",
    "n, p = X_aug.shape\n",
    "# Zellner's g\n",
    "g = p**2"
   ]
  },
  {
   "cell_type": "code",
   "execution_count": 15,
   "id": "e9d42678",
   "metadata": {},
   "outputs": [
    {
     "name": "stderr",
     "output_type": "stream",
     "text": [
      "Auto-assigning NUTS sampler...\n",
      "Initializing NUTS using jitter+adapt_diag...\n",
      "/Users/aaron/mambaforge/envs/pymc_env/lib/python3.10/site-packages/pymc/aesaraf.py:996: UserWarning: The parameter 'updates' of aesara.function() expects an OrderedDict, got <class 'dict'>. Using a standard dictionary here results in non-deterministic behavior. You should use an OrderedDict if you are using Python 2.7 (collections.OrderedDict for older python), or use a list of (shared, update) pairs. Do not just convert your dictionary to this type before the call as the conversion will still be non-deterministic.\n",
      "  aesara_function = aesara.function(\n",
      "Multiprocess sampling (4 chains in 4 jobs)\n",
      "NUTS: [tau, beta]\n"
     ]
    },
    {
     "data": {
      "text/html": [
       "\n",
       "<style>\n",
       "    /* Turns off some styling */\n",
       "    progress {\n",
       "        /* gets rid of default border in Firefox and Opera. */\n",
       "        border: none;\n",
       "        /* Needs to be in here for Safari polyfill so background images work as expected. */\n",
       "        background-size: auto;\n",
       "    }\n",
       "    .progress-bar-interrupted, .progress-bar-interrupted::-webkit-progress-bar {\n",
       "        background: #F44336;\n",
       "    }\n",
       "</style>\n"
      ],
      "text/plain": [
       "<IPython.core.display.HTML object>"
      ]
     },
     "metadata": {},
     "output_type": "display_data"
    },
    {
     "data": {
      "text/html": [
       "\n",
       "    <div>\n",
       "      <progress value='12000' class='' max='12000' style='width:300px; height:20px; vertical-align: middle;'></progress>\n",
       "      100.00% [12000/12000 00:49<00:00 Sampling 4 chains, 151 divergences]\n",
       "    </div>\n",
       "    "
      ],
      "text/plain": [
       "<IPython.core.display.HTML object>"
      ]
     },
     "metadata": {},
     "output_type": "display_data"
    },
    {
     "name": "stderr",
     "output_type": "stream",
     "text": [
      "/Users/aaron/mambaforge/envs/pymc_env/lib/python3.10/site-packages/scipy/stats/_continuous_distns.py:624: RuntimeWarning: overflow encountered in _beta_ppf\n",
      "  return _boost._beta_ppf(q, a, b)\n",
      "/Users/aaron/mambaforge/envs/pymc_env/lib/python3.10/site-packages/scipy/stats/_continuous_distns.py:624: RuntimeWarning: overflow encountered in _beta_ppf\n",
      "  return _boost._beta_ppf(q, a, b)\n",
      "/Users/aaron/mambaforge/envs/pymc_env/lib/python3.10/site-packages/scipy/stats/_continuous_distns.py:624: RuntimeWarning: overflow encountered in _beta_ppf\n",
      "  return _boost._beta_ppf(q, a, b)\n",
      "/Users/aaron/mambaforge/envs/pymc_env/lib/python3.10/site-packages/scipy/stats/_continuous_distns.py:624: RuntimeWarning: overflow encountered in _beta_ppf\n",
      "  return _boost._beta_ppf(q, a, b)\n",
      "Sampling 4 chains for 1_000 tune and 2_000 draw iterations (4_000 + 8_000 draws total) took 56 seconds.\n",
      "There were 151 divergences after tuning. Increase `target_accept` or reparameterize.\n"
     ]
    },
    {
     "data": {
      "text/html": [
       "\n",
       "<style>\n",
       "    /* Turns off some styling */\n",
       "    progress {\n",
       "        /* gets rid of default border in Firefox and Opera. */\n",
       "        border: none;\n",
       "        /* Needs to be in here for Safari polyfill so background images work as expected. */\n",
       "        background-size: auto;\n",
       "    }\n",
       "    .progress-bar-interrupted, .progress-bar-interrupted::-webkit-progress-bar {\n",
       "        background: #F44336;\n",
       "    }\n",
       "</style>\n"
      ],
      "text/plain": [
       "<IPython.core.display.HTML object>"
      ]
     },
     "metadata": {},
     "output_type": "display_data"
    },
    {
     "data": {
      "text/html": [
       "\n",
       "    <div>\n",
       "      <progress value='8000' class='' max='8000' style='width:300px; height:20px; vertical-align: middle;'></progress>\n",
       "      100.00% [8000/8000 00:00<00:00]\n",
       "    </div>\n",
       "    "
      ],
      "text/plain": [
       "<IPython.core.display.HTML object>"
      ]
     },
     "metadata": {},
     "output_type": "display_data"
    }
   ],
   "source": [
    "with pm.Model() as m2d:\n",
    "    tau = pm.Gamma(\"tau\", 0.001, 0.001)\n",
    "    beta = pm.Normal(\"beta\", 0, tau=0.001, shape=p)\n",
    "    variance = pm.Deterministic(\"variance\", 1 / tau)\n",
    "\n",
    "    mu = dot(X_aug, beta)\n",
    "    likelihood = pm.Normal(\"likelihood\", mu=mu, tau=tau, observed=y)\n",
    "\n",
    "    # Bayesian R2 from fat2d.odc\n",
    "    sse = (n - p) * variance\n",
    "    cy = y - y.mean()\n",
    "    sst = dot(cy, cy)\n",
    "    br2 = pm.Deterministic(\"br2\", 1 - sse / sst)\n",
    "    br2_adj = pm.Deterministic(\"br2_adj\", 1 - (n - 1) * variance / sst)\n",
    "\n",
    "    trace = pm.sample(2000)\n",
    "    ppc = pm.sample_posterior_predictive(trace)"
   ]
  },
  {
   "cell_type": "code",
   "execution_count": 17,
   "id": "62552ea9",
   "metadata": {},
   "outputs": [
    {
     "data": {
      "text/html": [
       "<div>\n",
       "<style scoped>\n",
       "    .dataframe tbody tr th:only-of-type {\n",
       "        vertical-align: middle;\n",
       "    }\n",
       "\n",
       "    .dataframe tbody tr th {\n",
       "        vertical-align: top;\n",
       "    }\n",
       "\n",
       "    .dataframe thead th {\n",
       "        text-align: right;\n",
       "    }\n",
       "</style>\n",
       "<table border=\"1\" class=\"dataframe\">\n",
       "  <thead>\n",
       "    <tr style=\"text-align: right;\">\n",
       "      <th></th>\n",
       "      <th>mean</th>\n",
       "      <th>sd</th>\n",
       "      <th>hdi_2.5%</th>\n",
       "      <th>hdi_97.5%</th>\n",
       "      <th>mcse_mean</th>\n",
       "      <th>mcse_sd</th>\n",
       "      <th>ess_bulk</th>\n",
       "      <th>ess_tail</th>\n",
       "      <th>r_hat</th>\n",
       "    </tr>\n",
       "  </thead>\n",
       "  <tbody>\n",
       "    <tr>\n",
       "      <th>beta[0]</th>\n",
       "      <td>-11.891</td>\n",
       "      <td>14.161</td>\n",
       "      <td>-39.766</td>\n",
       "      <td>15.355</td>\n",
       "      <td>0.245</td>\n",
       "      <td>0.175</td>\n",
       "      <td>3341.0</td>\n",
       "      <td>3959.0</td>\n",
       "      <td>1.0</td>\n",
       "    </tr>\n",
       "    <tr>\n",
       "      <th>beta[1]</th>\n",
       "      <td>0.057</td>\n",
       "      <td>0.030</td>\n",
       "      <td>-0.002</td>\n",
       "      <td>0.116</td>\n",
       "      <td>0.000</td>\n",
       "      <td>0.000</td>\n",
       "      <td>5126.0</td>\n",
       "      <td>5215.0</td>\n",
       "      <td>1.0</td>\n",
       "    </tr>\n",
       "    <tr>\n",
       "      <th>beta[2]</th>\n",
       "      <td>-0.072</td>\n",
       "      <td>0.045</td>\n",
       "      <td>-0.158</td>\n",
       "      <td>0.017</td>\n",
       "      <td>0.001</td>\n",
       "      <td>0.001</td>\n",
       "      <td>3331.0</td>\n",
       "      <td>4692.0</td>\n",
       "      <td>1.0</td>\n",
       "    </tr>\n",
       "    <tr>\n",
       "      <th>beta[3]</th>\n",
       "      <td>-0.062</td>\n",
       "      <td>0.101</td>\n",
       "      <td>-0.255</td>\n",
       "      <td>0.137</td>\n",
       "      <td>0.002</td>\n",
       "      <td>0.001</td>\n",
       "      <td>4318.0</td>\n",
       "      <td>5189.0</td>\n",
       "      <td>1.0</td>\n",
       "    </tr>\n",
       "    <tr>\n",
       "      <th>beta[4]</th>\n",
       "      <td>0.064</td>\n",
       "      <td>0.282</td>\n",
       "      <td>-0.477</td>\n",
       "      <td>0.629</td>\n",
       "      <td>0.004</td>\n",
       "      <td>0.003</td>\n",
       "      <td>4322.0</td>\n",
       "      <td>4952.0</td>\n",
       "      <td>1.0</td>\n",
       "    </tr>\n",
       "    <tr>\n",
       "      <th>beta[5]</th>\n",
       "      <td>-0.461</td>\n",
       "      <td>0.214</td>\n",
       "      <td>-0.874</td>\n",
       "      <td>-0.041</td>\n",
       "      <td>0.003</td>\n",
       "      <td>0.002</td>\n",
       "      <td>5295.0</td>\n",
       "      <td>5463.0</td>\n",
       "      <td>1.0</td>\n",
       "    </tr>\n",
       "    <tr>\n",
       "      <th>beta[6]</th>\n",
       "      <td>-0.039</td>\n",
       "      <td>0.096</td>\n",
       "      <td>-0.233</td>\n",
       "      <td>0.145</td>\n",
       "      <td>0.001</td>\n",
       "      <td>0.001</td>\n",
       "      <td>6016.0</td>\n",
       "      <td>5835.0</td>\n",
       "      <td>1.0</td>\n",
       "    </tr>\n",
       "    <tr>\n",
       "      <th>beta[7]</th>\n",
       "      <td>0.879</td>\n",
       "      <td>0.087</td>\n",
       "      <td>0.702</td>\n",
       "      <td>1.040</td>\n",
       "      <td>0.001</td>\n",
       "      <td>0.001</td>\n",
       "      <td>5416.0</td>\n",
       "      <td>5564.0</td>\n",
       "      <td>1.0</td>\n",
       "    </tr>\n",
       "    <tr>\n",
       "      <th>beta[8]</th>\n",
       "      <td>-0.221</td>\n",
       "      <td>0.133</td>\n",
       "      <td>-0.492</td>\n",
       "      <td>0.027</td>\n",
       "      <td>0.002</td>\n",
       "      <td>0.001</td>\n",
       "      <td>4588.0</td>\n",
       "      <td>5134.0</td>\n",
       "      <td>1.0</td>\n",
       "    </tr>\n",
       "    <tr>\n",
       "      <th>beta[9]</th>\n",
       "      <td>0.227</td>\n",
       "      <td>0.137</td>\n",
       "      <td>-0.038</td>\n",
       "      <td>0.502</td>\n",
       "      <td>0.002</td>\n",
       "      <td>0.001</td>\n",
       "      <td>5869.0</td>\n",
       "      <td>5810.0</td>\n",
       "      <td>1.0</td>\n",
       "    </tr>\n",
       "    <tr>\n",
       "      <th>beta[10]</th>\n",
       "      <td>-0.015</td>\n",
       "      <td>0.233</td>\n",
       "      <td>-0.439</td>\n",
       "      <td>0.475</td>\n",
       "      <td>0.003</td>\n",
       "      <td>0.002</td>\n",
       "      <td>5057.0</td>\n",
       "      <td>5502.0</td>\n",
       "      <td>1.0</td>\n",
       "    </tr>\n",
       "    <tr>\n",
       "      <th>beta[11]</th>\n",
       "      <td>0.148</td>\n",
       "      <td>0.205</td>\n",
       "      <td>-0.255</td>\n",
       "      <td>0.541</td>\n",
       "      <td>0.003</td>\n",
       "      <td>0.002</td>\n",
       "      <td>5002.0</td>\n",
       "      <td>5810.0</td>\n",
       "      <td>1.0</td>\n",
       "    </tr>\n",
       "    <tr>\n",
       "      <th>beta[12]</th>\n",
       "      <td>0.147</td>\n",
       "      <td>0.162</td>\n",
       "      <td>-0.169</td>\n",
       "      <td>0.461</td>\n",
       "      <td>0.002</td>\n",
       "      <td>0.002</td>\n",
       "      <td>6200.0</td>\n",
       "      <td>5543.0</td>\n",
       "      <td>1.0</td>\n",
       "    </tr>\n",
       "    <tr>\n",
       "      <th>beta[13]</th>\n",
       "      <td>0.425</td>\n",
       "      <td>0.190</td>\n",
       "      <td>0.058</td>\n",
       "      <td>0.794</td>\n",
       "      <td>0.002</td>\n",
       "      <td>0.002</td>\n",
       "      <td>6516.0</td>\n",
       "      <td>5647.0</td>\n",
       "      <td>1.0</td>\n",
       "    </tr>\n",
       "    <tr>\n",
       "      <th>beta[14]</th>\n",
       "      <td>-1.491</td>\n",
       "      <td>0.501</td>\n",
       "      <td>-2.446</td>\n",
       "      <td>-0.496</td>\n",
       "      <td>0.006</td>\n",
       "      <td>0.004</td>\n",
       "      <td>6600.0</td>\n",
       "      <td>5867.0</td>\n",
       "      <td>1.0</td>\n",
       "    </tr>\n",
       "    <tr>\n",
       "      <th>tau</th>\n",
       "      <td>0.062</td>\n",
       "      <td>0.006</td>\n",
       "      <td>0.051</td>\n",
       "      <td>0.073</td>\n",
       "      <td>0.000</td>\n",
       "      <td>0.000</td>\n",
       "      <td>6987.0</td>\n",
       "      <td>3764.0</td>\n",
       "      <td>1.0</td>\n",
       "    </tr>\n",
       "    <tr>\n",
       "      <th>variance</th>\n",
       "      <td>16.135</td>\n",
       "      <td>1.489</td>\n",
       "      <td>13.332</td>\n",
       "      <td>19.176</td>\n",
       "      <td>0.017</td>\n",
       "      <td>0.012</td>\n",
       "      <td>6987.0</td>\n",
       "      <td>3764.0</td>\n",
       "      <td>1.0</td>\n",
       "    </tr>\n",
       "    <tr>\n",
       "      <th>br2</th>\n",
       "      <td>0.746</td>\n",
       "      <td>0.023</td>\n",
       "      <td>0.699</td>\n",
       "      <td>0.790</td>\n",
       "      <td>0.000</td>\n",
       "      <td>0.000</td>\n",
       "      <td>6987.0</td>\n",
       "      <td>3764.0</td>\n",
       "      <td>1.0</td>\n",
       "    </tr>\n",
       "    <tr>\n",
       "      <th>br2_adj</th>\n",
       "      <td>0.731</td>\n",
       "      <td>0.025</td>\n",
       "      <td>0.681</td>\n",
       "      <td>0.778</td>\n",
       "      <td>0.000</td>\n",
       "      <td>0.000</td>\n",
       "      <td>6987.0</td>\n",
       "      <td>3764.0</td>\n",
       "      <td>1.0</td>\n",
       "    </tr>\n",
       "  </tbody>\n",
       "</table>\n",
       "</div>"
      ],
      "text/plain": [
       "            mean      sd  hdi_2.5%  hdi_97.5%  mcse_mean  mcse_sd  ess_bulk  \\\n",
       "beta[0]  -11.891  14.161   -39.766     15.355      0.245    0.175    3341.0   \n",
       "beta[1]    0.057   0.030    -0.002      0.116      0.000    0.000    5126.0   \n",
       "beta[2]   -0.072   0.045    -0.158      0.017      0.001    0.001    3331.0   \n",
       "beta[3]   -0.062   0.101    -0.255      0.137      0.002    0.001    4318.0   \n",
       "beta[4]    0.064   0.282    -0.477      0.629      0.004    0.003    4322.0   \n",
       "beta[5]   -0.461   0.214    -0.874     -0.041      0.003    0.002    5295.0   \n",
       "beta[6]   -0.039   0.096    -0.233      0.145      0.001    0.001    6016.0   \n",
       "beta[7]    0.879   0.087     0.702      1.040      0.001    0.001    5416.0   \n",
       "beta[8]   -0.221   0.133    -0.492      0.027      0.002    0.001    4588.0   \n",
       "beta[9]    0.227   0.137    -0.038      0.502      0.002    0.001    5869.0   \n",
       "beta[10]  -0.015   0.233    -0.439      0.475      0.003    0.002    5057.0   \n",
       "beta[11]   0.148   0.205    -0.255      0.541      0.003    0.002    5002.0   \n",
       "beta[12]   0.147   0.162    -0.169      0.461      0.002    0.002    6200.0   \n",
       "beta[13]   0.425   0.190     0.058      0.794      0.002    0.002    6516.0   \n",
       "beta[14]  -1.491   0.501    -2.446     -0.496      0.006    0.004    6600.0   \n",
       "tau        0.062   0.006     0.051      0.073      0.000    0.000    6987.0   \n",
       "variance  16.135   1.489    13.332     19.176      0.017    0.012    6987.0   \n",
       "br2        0.746   0.023     0.699      0.790      0.000    0.000    6987.0   \n",
       "br2_adj    0.731   0.025     0.681      0.778      0.000    0.000    6987.0   \n",
       "\n",
       "          ess_tail  r_hat  \n",
       "beta[0]     3959.0    1.0  \n",
       "beta[1]     5215.0    1.0  \n",
       "beta[2]     4692.0    1.0  \n",
       "beta[3]     5189.0    1.0  \n",
       "beta[4]     4952.0    1.0  \n",
       "beta[5]     5463.0    1.0  \n",
       "beta[6]     5835.0    1.0  \n",
       "beta[7]     5564.0    1.0  \n",
       "beta[8]     5134.0    1.0  \n",
       "beta[9]     5810.0    1.0  \n",
       "beta[10]    5502.0    1.0  \n",
       "beta[11]    5810.0    1.0  \n",
       "beta[12]    5543.0    1.0  \n",
       "beta[13]    5647.0    1.0  \n",
       "beta[14]    5867.0    1.0  \n",
       "tau         3764.0    1.0  \n",
       "variance    3764.0    1.0  \n",
       "br2         3764.0    1.0  \n",
       "br2_adj     3764.0    1.0  "
      ]
     },
     "execution_count": 17,
     "metadata": {},
     "output_type": "execute_result"
    }
   ],
   "source": [
    "az.summary(trace, hdi_prob=0.95)"
   ]
  },
  {
   "cell_type": "code",
   "execution_count": 18,
   "id": "ad08d551",
   "metadata": {},
   "outputs": [
    {
     "data": {
      "text/plain": [
       "r2        0.748573\n",
       "r2_std    0.000000\n",
       "dtype: float64"
      ]
     },
     "execution_count": 18,
     "metadata": {},
     "output_type": "execute_result"
    }
   ],
   "source": [
    "y_pred = np.array(ppc.posterior_predictive.likelihood.mean(axis=(0, 1)))\n",
    "\n",
    "az.r2_score(y, y_pred)"
   ]
  },
  {
   "cell_type": "code",
   "execution_count": null,
   "id": "ee78ede0",
   "metadata": {},
   "outputs": [],
   "source": []
  }
 ],
 "metadata": {
  "kernelspec": {
   "display_name": "Python 3 (ipykernel)",
   "language": "python",
   "name": "python3"
  },
  "language_info": {
   "codemirror_mode": {
    "name": "ipython",
    "version": 3
   },
   "file_extension": ".py",
   "mimetype": "text/x-python",
   "name": "python",
   "nbconvert_exporter": "python",
   "pygments_lexer": "ipython3",
   "version": "3.10.4"
  }
 },
 "nbformat": 4,
 "nbformat_minor": 5
}
